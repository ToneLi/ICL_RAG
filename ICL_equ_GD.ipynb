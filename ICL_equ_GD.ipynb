{
 "cells": [
  {
   "cell_type": "code",
   "execution_count": 1,
   "id": "533e9037-a55e-4c3a-addd-595ff952549a",
   "metadata": {},
   "outputs": [],
   "source": [
    "# @title Imports external sources\n",
    "#  conda activate py310_ICL\n",
    "import os\n",
    "os.environ[\"CUDA_VISIBLE_DEVICES\"] = \"5\"\n",
    "import io\n",
    "from IPython.display import display\n",
    "import PIL.Image, PIL.ImageDraw, PIL.ImageFont\n",
    "import base64\n",
    "import zipfile\n",
    "import json\n",
    "import requests\n",
    "import matplotlib.pylab as pl\n",
    "import numpy as np\n",
    "import glob\n",
    "import requests\n",
    "import random as pyrandom\n",
    "from concurrent import futures\n",
    "from functools import partial\n",
    "from scipy.ndimage import rotate\n",
    "from IPython.display import Image, HTML, clear_output\n",
    "from tqdm import tqdm_notebook, tnrange\n",
    "import time\n",
    "from typing import Any, MutableMapping, NamedTuple, Tuple\n",
    "\n",
    "import jax\n",
    "from jax import grad, jit, vmap\n",
    "import jax.numpy as jnp\n",
    "\n",
    "import haiku as hk\n",
    "import math\n",
    "\n",
    "from ml_collections import config_dict\n",
    "import matplotlib.pylab as pl\n",
    "import matplotlib.colors as mcolors\n",
    "\n",
    "colors = pl.colormaps['Dark2']\n",
    "from src.transformer import Transformer\n",
    "from src.data import create_reg_data_classic_token, create_weights\n",
    "from src.config import config\n",
    "from src.train import *\n"
   ]
  },
  {
   "cell_type": "code",
   "execution_count": 2,
   "id": "b947d273-cbde-4f3b-aee2-4f5ed1b8a5bc",
   "metadata": {},
   "outputs": [],
   "source": [
    "\n",
    "# @title Config\n",
    "softmax = False  # @param {type:\"boolean\"}\n",
    "layernorm = False  # @param {type:\"boolean\"}\n",
    "\n",
    "recurrent_Transformer = True  # @param {type:\"boolean\"}\n",
    "num_layers = 5 # @param {type:\"integer\"}\n",
    "num_heads = 1  # @param {type:\"integer\"}\n",
    "num_seeds = 1  # @param {type:\"integer\"}\n",
    "\n",
    "config.seed = 0\n",
    "config.local_usage = True\n",
    "\n",
    "####\n",
    "config.deq = recurrent_Transformer\n",
    "config.gd_deq = recurrent_Transformer\n",
    "config.att_only_trans = True\n",
    "####\n",
    "\n",
    "config.pre_train_gd = True\n",
    "config.train_gd_whitening = True\n",
    "config.train_gd_lr = True\n",
    "config.use_bias = False\n",
    "config.include_query = False\n",
    "\n",
    "config.distract_size = 0\n",
    "config.training_steps =8000 if config.deq else 8000\n",
    "config.training_steps_gd = 1000 if config.gd_deq else 30000\n",
    "config.use_softmax = softmax\n",
    "config.first_layer_sm = False\n",
    "config.use_non_lin_mix = False\n",
    "\n",
    "config.widening_factor = 4\n",
    "\n",
    "config.layer_norm = layernorm\n",
    "config.out_proj = False\n",
    "config.in_proj = False\n",
    "config.adam = True\n",
    "config.dataset_size = 10\n",
    "config.input_size = 10\n",
    "\n",
    "\"\"\"------------------need to change----------\"\"\"\n",
    "document_num=1\n",
    "config.key_size = 11+(config.dataset_size*document_num)   \n",
    "config.num_layers = num_layers\n",
    "config.num_heads = num_heads\n",
    "\n",
    "config.grad_clip_value = 10 if num_layers > 2 else 0.001\n",
    "config.grad_clip_value_gd = 10 if num_layers > 2 else 0.001\n",
    "config.lr = 0.0005# if num_layers > 3 else 0.001\n",
    "config.gd_lr = 0.0005# if num_layers > 3 else 0.001\n",
    "config.wd = 0.0\n",
    "config.init_scale = 0.002 / config.num_layers\n",
    "config.bs = 2048\n",
    "config.bs_gd_train = 512\n",
    "config.dampening = 1.0\n",
    "config.clip = 10 if num_layers > 3 else 0\n",
    "\n",
    "config.dropout_rate = 0.0\n",
    "data_creator = vmap(create_reg_data,\n",
    "                    in_axes=(0, None, None, None, None, None),\n",
    "                    out_axes=0)\n",
    "\n",
    "config.y_update = False\n",
    "config.input_range = 1\n",
    "\n",
    "\n",
    "config.pos_enc = False\n",
    "config.pos_enc_size = 20\n",
    "config.concat_pos_enc = False\n",
    "config.analyse = True\n",
    "\n",
    "config.cycle_data = 0  # 0 means online learning\n",
    "config.num_seeds = num_seeds\n",
    "if config.num_layers == 1:\n",
    "    assert config.deq == True\n",
    "    assert config.gd_deq == True\n",
    "\n",
    "if config.num_layers > 1:\n",
    "    assert config.y_update == False\n",
    "\n",
    "config.in_proj = False\n",
    "config.emb_size = 11\n",
    "\n",
    "# @title Utils\n",
    "pl.rcParams.update({'font.size': 12})\n",
    "pl.rc('axes', labelsize=14)\n",
    "pl.rcParams.update({\n",
    "    \"text.usetex\": False,\n",
    "})\n",
    "\n",
    "import matplotlib.colors as mcolors\n",
    "\n",
    "colors = pl.colormaps['Dark2']"
   ]
  },
  {
   "cell_type": "code",
   "execution_count": 3,
   "id": "f2fa147a-a008-47d3-bdb4-87f3e72b5abc",
   "metadata": {},
   "outputs": [
    {
     "name": "stdout",
     "output_type": "stream",
     "text": [
      "3.10.18 | packaged by conda-forge | (main, Jun  4 2025, 14:45:41) [GCC 13.3.0]\n"
     ]
    }
   ],
   "source": [
    "import sys\n",
    "print(sys.version)"
   ]
  },
  {
   "cell_type": "code",
   "execution_count": 4,
   "id": "ed66ef30-999e-439f-8e81-ab139f73cdb7",
   "metadata": {},
   "outputs": [],
   "source": [
    "\n",
    "\n",
    "def np2pil(a):\n",
    "    if a.dtype in [np.float32, np.float64]:\n",
    "        a = np.uint8(np.clip(a, 0, 1) * 255)\n",
    "    return PIL.Image.fromarray(a)\n",
    "\n",
    "\n",
    "def imwrite(f, a, fmt=None):\n",
    "    a = np.asarray(a)\n",
    "    if isinstance(f, str):\n",
    "        fmt = f.rsplit('.', 1)[-1].lower()\n",
    "        if fmt == 'jpg':\n",
    "            fmt = 'jpeg'\n",
    "        f = open(f, 'wb')  # GFile.open(f, 'wb')\n",
    "    np2pil(a).save(f, fmt, quality=95)\n",
    "\n",
    "\n",
    "def imencode(a, fmt='jpeg'):\n",
    "    a = np.asarray(a)\n",
    "    if len(a.shape) == 3 and a.shape[-1] == 4:\n",
    "        fmt = 'png'\n",
    "    f = io.BytesIO()\n",
    "    imwrite(f, a, fmt)\n",
    "    return f.getvalue()\n",
    "\n",
    "\n",
    "def moving_average(x, w):\n",
    "    return np.convolve(x, np.ones(w), 'valid') / w\n",
    "\n",
    "\n",
    "def grab_plot(close=True):\n",
    "    \"\"\"Return the current Matplotlib figure as an image.\"\"\"\n",
    "    fig = pl.gcf()\n",
    "    fig.canvas.draw()\n",
    "    img = np.array(fig.canvas.renderer._renderer)\n",
    "    a = np.float32(img[..., 3:] / 255.0)\n",
    "    img = np.uint8(255 * (1.0 - a) + img[..., :3] * a)  # alpha\n",
    "    if close:\n",
    "        pl.close()\n",
    "    return img\n",
    "\n",
    "\n",
    "def display_learning(train, test=None, gt=None, inter=None, title=\"train\",\n",
    "                     title1=\"Trained TF\", title2=\"Test\",\n",
    "                     title3='Gradient descent', title4='Interpolated',\n",
    "                     y_label1='L2 Norm', y_label2='Cosine sim',\n",
    "                     y_lim_l=0, y_lim_u=1, single_seeds=False,\n",
    "                     plot_title=None,\n",
    "                     y_lim_u2=1., y_lim_l2=0., x_label='Training steps',\n",
    "                     second_axis=False, color_add=0.2, rw=10, num_iter_os=None,\n",
    "                     allow_download=False, plot_num=1, two_plots=False,\n",
    "                     loc_first='upper left', label_title=\"Loss\",\n",
    "                     loc_sec='upper left', yscale_log=False, line=\"-\",\n",
    "                     color_axis=True,\n",
    "                     height=3.5, width=4, ax1=None, ax2=None):\n",
    "    \"\"\"Update learning curve image.\"\"\"\n",
    "  \n",
    "    train_list = train\n",
    "    train = np.array(train)\n",
    "    num_seeds_train = train.shape[0]\n",
    "    train_std = np.std(train, axis=0)\n",
    "    train = np.mean(train, axis=0)\n",
    "\n",
    "    if test is not None:\n",
    "        test_list = test\n",
    "        test_std = np.std(test, axis=0)\n",
    "        test = np.mean(test, axis=0)\n",
    "\n",
    "    if gt is not None:\n",
    "        gt_list = gt\n",
    "        gt_std = np.std(gt, axis=0)\n",
    "        gt = np.mean(gt, axis=0)\n",
    "\n",
    "    if inter is not None:\n",
    "        inter_list = inter\n",
    "        inter_std = np.std(inter, axis=0)\n",
    "        inter = np.mean(inter, axis=0)\n",
    "\n",
    "    if plot_num == 1:\n",
    "        fig, ax1 = pl.subplots()\n",
    "        ax1.set_xlabel(x_label,fontsize=14)\n",
    "        ax1.tick_params(axis='both', labelsize=14) \n",
    "        fig.set_size_inches(width, height)\n",
    "\n",
    "    if test is not None and not second_axis:\n",
    "       \n",
    "        \"\"\"---get in to ---------\"\"\"\n",
    "        # print(\"num_iter_os\",num_iter_os)\n",
    "        x_range = np.arange(0, num_iter_os, int(num_iter_os / len(test)))  # 50\n",
    "       \n",
    "      \n",
    "        if len(test_list) > 1:\n",
    "            if single_seeds:\n",
    "                for s in test_list:\n",
    "                    ax1.plot(x_range, s, color=colors(0.1 + color_add), alpha=0.2, label=title2, linewidth='2')\n",
    "            else:\n",
    "                ax1.fill_between(x_range, test - test_std, test + test_std, alpha=0.2,\n",
    "                                 facecolor=colors(0.1 + color_add))\n",
    "        ax1.plot(x_range, test, color=colors(0.1 + color_add), label=title2, linewidth='3')\n",
    "        # test_avg = moving_average(test, rw)\n",
    "        # ax1.plot(x_range[:len(test_avg)], test_avg, color=colors(0.1+color_add), label=title2)\n",
    "\n",
    "    if gt is not None:\n",
    "        if not second_axis:\n",
    "            x_range = np.arange(0, num_iter_os, int(num_iter_os / len(gt)))\n",
    "            # ax1.plot(x_range[:len(gt[:-rw])], gt[:-rw], color=colors(0.2+color_add), alpha=0.3)\n",
    "            # gt_avg = moving_average(gt, rw)\n",
    "            ax1.plot(x_range, gt, color=colors(0.2 + color_add), label=title3, linewidth='3')\n",
    "            if len(gt_list) > 1:\n",
    "                if single_seeds:\n",
    "                    for s in gt_list:\n",
    "                        ax1.plot(x_range, s, color=colors(0.2 + color_add), alpha=0.2, linewidth='2', zorder=0)\n",
    "                else:\n",
    "                    ax1.fill_between(x_range, gt - gt_std, gt + gt_std, alpha=0.2, facecolor=colors(0.2 + color_add))\n",
    "        else:\n",
    "            x_range = np.arange(0, num_iter_os, int(num_iter_os / len(gt)))\n",
    "            ax1.plot(x_range, gt, color=colors(0.6 + color_add), label=title3, linewidth='3')\n",
    "            if len(gt_list) > 1:\n",
    "                if single_seeds:\n",
    "                    for s in gt_list:\n",
    "                        ax1.plot(x_range, s, color=colors(0.6 + color_add), alpha=0.3, linewidth='2', zorder=0)\n",
    "                else:\n",
    "                    ax1.fill_between(x_range, gt - gt_std, gt + gt_std, alpha=0.2, facecolor=colors(0.6 + color_add))\n",
    "\n",
    "    if test is not None and second_axis:\n",
    "        x_range = np.arange(0, num_iter_os, int(num_iter_os / len(test)))\n",
    "     \n",
    "        ax1.plot(x_range, test, color=colors(0.5 + color_add), label=title2, linewidth='3')\n",
    "        # test_avg = moving_average(test, rw)\n",
    "        # ax1.plot(x_range[:len(test_avg)],test_avg, color=colors(0.5+color_add))\n",
    "        if len(test_list) > 1:\n",
    "            if single_seeds:\n",
    "                for s in test_list:\n",
    "                    ax1.plot(x_range, s, color=colors(0.5 + color_add), linewidth='2', alpha=0.3, zorder=0)\n",
    "            else:\n",
    "                ax1.fill_between(x_range, test - test_std, test + test_std, alpha=0.2,\n",
    "                                 facecolor=colors(0.5 + color_add))\n",
    "\n",
    "    if inter is not None and not second_axis:\n",
    "        x_range = np.arange(0, num_iter_os, int(num_iter_os / len(inter)))\n",
    "        ax1.plot(x_range, inter, color=colors(0.4 + color_add), label=title4, linewidth='3', zorder=10)\n",
    "        if len(inter_list) > 1:\n",
    "            if single_seeds:\n",
    "                for s in inter_list:\n",
    "                    ax1.plot(x_range, s, color=colors(0.4 + color_add), alpha=0.3, linewidth='2', zorder=0)\n",
    "            else:\n",
    "                ax1.fill_between(x_range, inter - inter_std, inter + inter_std, alpha=0.2,\n",
    "                                 facecolor=colors(0.4 + color_add), zorder=1)\n",
    "        # inter_avg = moving_average(inter, rw)\n",
    "        # ax1.plot(x_range[:len(inter_avg)], inter_avg, color=colors(0.7+color_add), label=title4)\n",
    "    \"\"\"\n",
    "\n",
    "    the label of model cos \n",
    "    \"\"\"\n",
    "    if second_axis:   \n",
    "        if ax2 is None:\n",
    "            ax2 = ax1.twinx()\n",
    "        ax2.set_zorder(0)\n",
    "        ax1.set_zorder(1)\n",
    "        ax1.set_frame_on(False)\n",
    "        # train_avg = moving_average(train, rw)\n",
    "        # ax2.plot(train[:-rw], color=colors(0.1+color_add), alpha=0.3)\n",
    "        ax2.plot(x_range, train, color=colors(0.4 + color_add), label=title1, linewidth='3')\n",
    "        ax2.plot(x_range, np.ones_like(train), \"--\", color=\"gray\", linewidth='0.7')\n",
    "        # legend2 = ax2.legend(loc='upper right', framealpha=0.5, facecolor='white')\n",
    "        # legend2.set_zorder(100)\n",
    "        if len(train_list) > 1:\n",
    "            if single_seeds:\n",
    "                for s in train_list:\n",
    "                    print(x_range, s)\n",
    "                    ax1.plot(x_range, s, line, color=colors(0.4 + color_add), alpha=0.3, linewidth='2', zorder=0)\n",
    "            else:\n",
    "                ax2.fill_between(x_range, train - train_std, train + train_std, alpha=0.2,\n",
    "                                 facecolor=colors(0.4 + color_add))\n",
    "\n",
    "        if color_axis:\n",
    "            ax2.yaxis.label.set_color(colors(0.4 + color_add))\n",
    "        # else:\n",
    "        #     legend2 = ax2.legend(loc='upper right', framealpha=0.99, facecolor='white')\n",
    "        #     legend2.set_zorder(100)\n",
    "            \n",
    "        ax2.set_ylabel(y_label2, color=\"black\",fontsize=14)\n",
    "        ax1.tick_params(axis='both', labelsize=14) \n",
    "        ax2.spines['top'].set_visible(False)\n",
    "    else:\n",
    "        ax1.spines['right'].set_visible(False)\n",
    "        # train_avg = moving_average(train, rw)\n",
    "        if line != \"-\":\n",
    "            ax1.scatter(x_range, train, s=[100 for _ in x_range],\n",
    "                        marker=\"+\", color=colors(0.3 + color_add), alpha=1, label=title1, zorder=3, linewidths=3)\n",
    "        else:\n",
    "            ax1.plot(x_range, train, line, color=colors(0.3 + color_add), label=title1, linewidth='3', zorder=11)\n",
    "        # ax1.plot(x_range[:len(train_avg)], train_avg, line, color=colors(0.3+color_add), label=title1)\n",
    "        if len(train_list) > 1:\n",
    "            if single_seeds:\n",
    "                for s in train_list:\n",
    "                    ax1.plot(x_range, s, line, color=colors(0.3 + color_add), alpha=0.3, linewidth='2', zorder=0)\n",
    "            else:\n",
    "                ax1.fill_between(x_range, train - train_std, train + train_std,\n",
    "                                 alpha=0.5, facecolor=colors(0.3 + color_add))\n",
    "\n",
    "        # ax1.legend(loc='best', framealpha=1, facecolor='white')\n",
    "        # ax1.spines['right'].set_visible(False)\n",
    "        # legend = ax1.legend(loc='upper right', framealpha=0.99, facecolor='white')\n",
    "        # legend.set_zorder(100)\n",
    "\n",
    "    # legend1 = ax1.legend(loc=loc_first, framealpha=0.99, facecolor='white')\n",
    "    # legend1.set_zorder(100)\n",
    "    if second_axis:\n",
    "        ax2.set_ylabel(y_label2,fontsize=14)\n",
    "        ax1.tick_params(axis='both', labelsize=14) \n",
    "        ax1.set_ylabel(y_label1,fontsize=14)\n",
    "        ax1.tick_params(axis='both', labelsize=14) \n",
    "        ax1.set_ylim(y_lim_l, y_lim_u)\n",
    "        # legend1 = ax1.legend(loc=loc_sec, framealpha=0.99, facecolor='white')\n",
    "        # ax2.set_ylim(y_lim_l2, y_lim_u2)\n",
    "        # ax1.set_ylim(bottom=0)\n",
    "    else:\n",
    "        ax1.set_ylabel(label_title, fontsize=14)\n",
    "    # pl.ylim(y_lim_l, y_lim_u)\n",
    "        pl.ylim(y_lim_l, y_lim_u)\n",
    "    ax1.spines['top'].set_visible(False)\n",
    "    \"\"\"---adding new--------\"\"\"\n",
    "    handles1, labels1 = ax1.get_legend_handles_labels()\n",
    "    if second_axis:\n",
    "        handles2, labels2 = ax2.get_legend_handles_labels()\n",
    "        handles = handles1 + handles2\n",
    "        labels = labels1 + labels2\n",
    "    else:\n",
    "        handles, labels = handles1, labels1\n",
    "    \"\"\"---------\"\"\"\n",
    "    legend = ax1.legend(handles, labels,\n",
    "                    loc='upper center',\n",
    "                    bbox_to_anchor=(0.5, 1.25),   # 图例在上方\n",
    "                    ncol=3,                      \n",
    "                    framealpha=0.9,\n",
    "                    facecolor='white',\n",
    "                    fontsize=10,\n",
    "                    handlelength=1.5,   # 控制线段长度 (默认 2)\n",
    "                    handletextpad=0.5   # 线段与文字间距\n",
    "                   )\n",
    "    legend.set_zorder(100)\n",
    "\n",
    "\n",
    "    if second_axis:   \n",
    "        ax2.set_ylabel(y_label2, fontsize=10, color=\"black\")\n",
    "        ax1.set_ylabel(y_label1, fontsize=10)\n",
    "        # if ax2 is None:\n",
    "        #     ax2 = ax1.twinx()\n",
    "        ax2.set_zorder(0)\n",
    "        ax1.set_zorder(1)\n",
    "        ax1.set_frame_on(False)\n",
    "\n",
    "\n",
    "    \n",
    "        # 右侧曲线\n",
    "        ax2.plot(x_range, train, color=colors(0.4 + color_add),\n",
    "                 label=title1, linewidth='3')\n",
    "        ax2.plot(x_range, np.ones_like(train), \"--\", color=\"gray\", linewidth='0.7')\n",
    "    \n",
    "        legend2 = ax2.legend(loc='upper right', framealpha=0.5,\n",
    "                             facecolor='white', fontsize=14)\n",
    "        legend2.set_zorder(100)\n",
    "        ax2.get_legend().remove()\n",
    "        if len(train_list) > 1:\n",
    "            if single_seeds:\n",
    "                for s in train_list:\n",
    "                    ax1.plot(x_range, s, line, color=colors(0.4 + color_add),\n",
    "                             alpha=0.3, linewidth='2', zorder=0)\n",
    "            else:\n",
    "                ax2.fill_between(x_range, train - train_std, train + train_std,\n",
    "                                 alpha=0.2, facecolor=colors(0.4 + color_add))\n",
    "    \n",
    "        # 坐标轴标题字体\n",
    "        ax1.set_ylabel(y_label1, fontsize=14)                 # 左边标题\n",
    "        ax2.set_ylabel(y_label2, color=\"black\", fontsize=14)  # 右边标题\n",
    "    \n",
    "        # 刻度字体大小\n",
    "        ax1.tick_params(axis='both', labelsize=14)  # 左边 y + x\n",
    "        ax2.tick_params(axis='y', labelsize=14)     # 右边 y\n",
    "\n",
    "\n",
    "\n",
    "\n",
    "    \n",
    "    if plot_title is not None:\n",
    "        pl.title(plot_title)\n",
    "\n",
    "    if yscale_log:\n",
    "        ax1.set_yscale(\"log\")\n",
    "    # pl.title(title)\n",
    "    pl.tight_layout()\n",
    "\n",
    "    if allow_download:\n",
    "        if second_axis:\n",
    "            pl.savefig(title, format=\"pdf\")\n",
    "            # % download_file\n",
    "            # sim.pdf\n",
    "        else:\n",
    "            pl.savefig(title, format=\"pdf\")\n",
    "            # % download_file\n",
    "            # train.pdf\n",
    "    else:\n",
    "        img = grab_plot()\n",
    "        display(Image(data=imencode(img, fmt='jpeg')), display_id=title)\n"
   ]
  },
  {
   "cell_type": "code",
   "execution_count": 5,
   "id": "76cecb9c-f921-4904-9039-138294407309",
   "metadata": {},
   "outputs": [],
   "source": [
    "\n",
    "# @title Lists\n",
    "\n",
    "loss_trans_list = [[] for _ in range(config.num_seeds)]\n",
    "loss_trans_train_list = [[] for _ in range(config.num_seeds)]\n",
    "losses_gd_list = [[] for _ in range(config.num_seeds)]\n",
    "losses_gd_list_trained = [[] for _ in range(config.num_seeds)]\n",
    "losses_int_list_trained = [[] for _ in range(config.num_seeds)]\n",
    "cos_sim_list, cos_sim_list_o = [[] for _ in range(config.num_seeds)], [[] for _ in range(config.num_seeds)]\n",
    "grad_norm_list, grad_norm_list_o = [[] for _ in range(config.num_seeds)], [[] for _ in range(config.num_seeds)]\n",
    "p_norm_list, p_norm_list_o = [[] for _ in range(config.num_seeds)], [[] for _ in range(config.num_seeds)]\n",
    "\n",
    "cos_sim_list, cos_sim_list_o = [[] for _ in range(config.num_seeds)], [[] for _ in range(config.num_seeds)]\n",
    "grad_norm_list, grad_norm_list_o = [[] for _ in range(config.num_seeds)], [[] for _ in range(config.num_seeds)]\n",
    "p_norm_list, p_norm_list_o = [[] for _ in range(config.num_seeds)], [[] for _ in range(config.num_seeds)]\n",
    "\n",
    "ir_t_list = [[] for _ in range(config.num_seeds)]\n",
    "ws_t_list = [[] for _ in range(config.num_seeds)]\n",
    "ir_gd_list = [[] for _ in range(config.num_seeds)]\n",
    "ws_gd_list = [[] for _ in range(config.num_seeds)]\n",
    "\n",
    "ir_t_ood_list = [[] for _ in range(config.num_seeds)]\n",
    "ws_t_ood_list = [[] for _ in range(config.num_seeds)]\n",
    "ir_gd_ood_list = [[] for _ in range(config.num_seeds)]\n",
    "ws_gd_ood_list = [[] for _ in range(config.num_seeds)]\n",
    "\n",
    "ir_gd_trained_list = [[] for _ in range(config.num_seeds)]\n",
    "ws_gd_trained_list = [[] for _ in range(config.num_seeds)]\n",
    "ir_gd_ood_trained_list = [[] for _ in range(config.num_seeds)]\n",
    "ws_gd_ood_trained_list = [[] for _ in range(config.num_seeds)]\n",
    "\n",
    "ir_inter_list = [[] for _ in range(config.num_seeds)]\n",
    "ws_inter_list = [[] for _ in range(config.num_seeds)]\n",
    "ir_inter_ood_list = [[] for _ in range(config.num_seeds)]\n",
    "ws_inter_ood_list = [[] for _ in range(config.num_seeds)]\n",
    "\n",
    "losses_noisy_list = [[] for _ in range(config.num_seeds)]\n",
    "losses_gd_noisy_list = [[] for _ in range(config.num_seeds)]\n",
    "losses_gd_noisy_trained_list = [[] for _ in range(config.num_seeds)]\n",
    "losses_inter_noisy_list = [[] for _ in range(config.num_seeds)]\n"
   ]
  },
  {
   "cell_type": "code",
   "execution_count": 6,
   "id": "4c7a5fba-d6b7-48c9-8392-2e77fbf22ea4",
   "metadata": {},
   "outputs": [],
   "source": [
    "\n",
    "# @title Logic how to interpolate weights\n",
    "def interpolate_weights(train_state, params_gd, deq=False):\n",
    "    if (config.num_heads == 1 and\n",
    "            config.sum_norm == False and config.deq == True and\n",
    "            config.layer_norm == False and config.att_only_trans == True):\n",
    "\n",
    "        cur_train_params = {k.replace('transformer', 'Transformer_gd'): v.copy() for\n",
    "                            k, v in train_state.params.items()}\n",
    "\n",
    "        inter_params = {k.replace('transformer', 'Transformer_gd'): {'w': jnp.zeros_like(v['w'])} for\n",
    "                        k, v in train_state.params.items()}\n",
    "\n",
    "        for k, v in cur_train_params.items():\n",
    "            if \"key\" in k:\n",
    "                key_gd = params_gd[k]['w'].copy()\n",
    "                key = cur_train_params[k]['w'].copy()\n",
    "            if \"linear\" in k:\n",
    "                linear_gd = params_gd[k]['w'].copy()\n",
    "                linear = cur_train_params[k]['w'].copy()\n",
    "            if \"query\" in k:\n",
    "                query_gd = params_gd[k]['w'].copy()\n",
    "                query = cur_train_params[k]['w'].copy()\n",
    "            if \"value\" in k:\n",
    "                value_gd = params_gd[k]['w'].copy()\n",
    "                value = cur_train_params[k]['w'].copy()\n",
    "\n",
    "                query = jnp.matmul(query, key.T)\n",
    "                # print(query)\n",
    "                key = jnp.identity(query.shape[0])\n",
    "                mean = np.mean([query[a, a] for a in range(query.shape[0] - 1)])\n",
    "                query = query / mean\n",
    "                query_gd = jnp.matmul(query_gd, key.T)\n",
    "                key_gd = jnp.identity(query.shape[0])\n",
    "                query = (query + query_gd) / 2\n",
    "\n",
    "                linear = jnp.matmul(value, linear)\n",
    "                # print(linear)\n",
    "                value = jnp.identity(query.shape[0])\n",
    "                linear = linear * mean\n",
    "                linear_gd = jnp.matmul(value_gd, linear_gd)\n",
    "                value_gd = jnp.identity(query.shape[0])\n",
    "                linear = (linear + linear_gd) / 2\n",
    "\n",
    "                inter_params[k.replace('value', 'linear')]['w'] = linear\n",
    "                inter_params[k.replace('value', 'value')]['w'] = value\n",
    "                inter_params[k.replace('value', 'query')]['w'] = query\n",
    "                inter_params[k.replace('value', 'key')]['w'] = key\n",
    "\n",
    "        losses_int, _, _ = predict_test.apply(inter_params, eval_rng, eval_data, True)\n",
    "    else:\n",
    "        losses_int = None\n",
    "        inter_params = None\n",
    "    return losses_int, inter_params"
   ]
  },
  {
   "cell_type": "code",
   "execution_count": 7,
   "id": "34047498-9e22-4f50-a3bb-a9acd9e0808f",
   "metadata": {
    "scrolled": true
   },
   "outputs": [
    {
     "name": "stdout",
     "output_type": "stream",
     "text": [
      "Best lr found for  5  steps of gradient descent:  0.3801  with loss  0.4567448\n",
      "Loss of GD++ (we learn eta and gamma):  0 0.43024555\n",
      "Loss of GD++ (we learn eta and gamma):  100 0.4293015\n",
      "Loss of GD++ (we learn eta and gamma):  200 0.42939413\n",
      "Loss of GD++ (we learn eta and gamma):  300 0.42936385\n",
      "Loss of GD++ (we learn eta and gamma):  400 0.42860383\n",
      "Loss of GD++ (we learn eta and gamma):  500 0.42853093\n",
      "Loss of GD++ (we learn eta and gamma):  600 0.42897016\n",
      "Loss of GD++ (we learn eta and gamma):  700 0.42870736\n",
      "Loss of GD++ (we learn eta and gamma):  800 0.42901635\n",
      "Loss of GD++ (we learn eta and gamma):  900 0.42917752\n",
      "-----loss_trans 0.84109986\n",
      "-----loss_trans 0.82818747\n"
     ]
    },
    {
     "data": {
      "text/plain": [
       "('Current seed',\n",
       " 0,\n",
       " 'Training step',\n",
       " 7900,\n",
       " 'Gradient descent loss',\n",
       " 0.4567447900772095,\n",
       " 'GD ++ loss',\n",
       " 0.4316410422325134,\n",
       " 'Trained TF loss',\n",
       " 0.47720906138420105,\n",
       " 'Interpolated model loss',\n",
       " 38.85091018676758,\n",
       " 'Cosine sim TF vs GD',\n",
       " 0.9633032083511353,\n",
       " 'Cosine sim TF vs GD++',\n",
       " 0.9534380435943604)"
      ]
     },
     "metadata": {},
     "output_type": "display_data"
    },
    {
     "name": "stdout",
     "output_type": "stream",
     "text": [
      "-----loss_trans 0.7505975\n"
     ]
    },
    {
     "data": {
      "text/plain": [
       "('Current seed',\n",
       " 0,\n",
       " 'Training step',\n",
       " 7900,\n",
       " 'Gradient descent loss',\n",
       " 0.4567447900772095,\n",
       " 'GD ++ loss',\n",
       " 0.4316410422325134,\n",
       " 'Trained TF loss',\n",
       " 0.47720906138420105,\n",
       " 'Interpolated model loss',\n",
       " 38.85091018676758,\n",
       " 'Cosine sim TF vs GD',\n",
       " 0.9633032083511353,\n",
       " 'Cosine sim TF vs GD++',\n",
       " 0.9534380435943604)"
      ]
     },
     "metadata": {},
     "output_type": "display_data"
    },
    {
     "name": "stdout",
     "output_type": "stream",
     "text": [
      "-----loss_trans 0.7015273\n"
     ]
    },
    {
     "data": {
      "text/plain": [
       "('Current seed',\n",
       " 0,\n",
       " 'Training step',\n",
       " 7900,\n",
       " 'Gradient descent loss',\n",
       " 0.4567447900772095,\n",
       " 'GD ++ loss',\n",
       " 0.4316410422325134,\n",
       " 'Trained TF loss',\n",
       " 0.47720906138420105,\n",
       " 'Interpolated model loss',\n",
       " 38.85091018676758,\n",
       " 'Cosine sim TF vs GD',\n",
       " 0.9633032083511353,\n",
       " 'Cosine sim TF vs GD++',\n",
       " 0.9534380435943604)"
      ]
     },
     "metadata": {},
     "output_type": "display_data"
    },
    {
     "name": "stdout",
     "output_type": "stream",
     "text": [
      "-----loss_trans 0.6846181\n"
     ]
    },
    {
     "data": {
      "text/plain": [
       "('Current seed',\n",
       " 0,\n",
       " 'Training step',\n",
       " 7900,\n",
       " 'Gradient descent loss',\n",
       " 0.4567447900772095,\n",
       " 'GD ++ loss',\n",
       " 0.4316410422325134,\n",
       " 'Trained TF loss',\n",
       " 0.47720906138420105,\n",
       " 'Interpolated model loss',\n",
       " 38.85091018676758,\n",
       " 'Cosine sim TF vs GD',\n",
       " 0.9633032083511353,\n",
       " 'Cosine sim TF vs GD++',\n",
       " 0.9534380435943604)"
      ]
     },
     "metadata": {},
     "output_type": "display_data"
    },
    {
     "name": "stdout",
     "output_type": "stream",
     "text": [
      "-----loss_trans 0.67708087\n"
     ]
    },
    {
     "data": {
      "text/plain": [
       "('Current seed',\n",
       " 0,\n",
       " 'Training step',\n",
       " 7900,\n",
       " 'Gradient descent loss',\n",
       " 0.4567447900772095,\n",
       " 'GD ++ loss',\n",
       " 0.4316410422325134,\n",
       " 'Trained TF loss',\n",
       " 0.47720906138420105,\n",
       " 'Interpolated model loss',\n",
       " 38.85091018676758,\n",
       " 'Cosine sim TF vs GD',\n",
       " 0.9633032083511353,\n",
       " 'Cosine sim TF vs GD++',\n",
       " 0.9534380435943604)"
      ]
     },
     "metadata": {},
     "output_type": "display_data"
    },
    {
     "name": "stdout",
     "output_type": "stream",
     "text": [
      "-----loss_trans 0.6665423\n"
     ]
    },
    {
     "data": {
      "text/plain": [
       "('Current seed',\n",
       " 0,\n",
       " 'Training step',\n",
       " 7900,\n",
       " 'Gradient descent loss',\n",
       " 0.4567447900772095,\n",
       " 'GD ++ loss',\n",
       " 0.4316410422325134,\n",
       " 'Trained TF loss',\n",
       " 0.47720906138420105,\n",
       " 'Interpolated model loss',\n",
       " 38.85091018676758,\n",
       " 'Cosine sim TF vs GD',\n",
       " 0.9633032083511353,\n",
       " 'Cosine sim TF vs GD++',\n",
       " 0.9534380435943604)"
      ]
     },
     "metadata": {},
     "output_type": "display_data"
    },
    {
     "name": "stdout",
     "output_type": "stream",
     "text": [
      "-----loss_trans 0.6514329\n"
     ]
    },
    {
     "data": {
      "text/plain": [
       "('Current seed',\n",
       " 0,\n",
       " 'Training step',\n",
       " 7900,\n",
       " 'Gradient descent loss',\n",
       " 0.4567447900772095,\n",
       " 'GD ++ loss',\n",
       " 0.4316410422325134,\n",
       " 'Trained TF loss',\n",
       " 0.47720906138420105,\n",
       " 'Interpolated model loss',\n",
       " 38.85091018676758,\n",
       " 'Cosine sim TF vs GD',\n",
       " 0.9633032083511353,\n",
       " 'Cosine sim TF vs GD++',\n",
       " 0.9534380435943604)"
      ]
     },
     "metadata": {},
     "output_type": "display_data"
    },
    {
     "name": "stdout",
     "output_type": "stream",
     "text": [
      "-----loss_trans 0.6248184\n"
     ]
    },
    {
     "data": {
      "text/plain": [
       "('Current seed',\n",
       " 0,\n",
       " 'Training step',\n",
       " 7900,\n",
       " 'Gradient descent loss',\n",
       " 0.4567447900772095,\n",
       " 'GD ++ loss',\n",
       " 0.4316410422325134,\n",
       " 'Trained TF loss',\n",
       " 0.47720906138420105,\n",
       " 'Interpolated model loss',\n",
       " 38.85091018676758,\n",
       " 'Cosine sim TF vs GD',\n",
       " 0.9633032083511353,\n",
       " 'Cosine sim TF vs GD++',\n",
       " 0.9534380435943604)"
      ]
     },
     "metadata": {},
     "output_type": "display_data"
    },
    {
     "name": "stdout",
     "output_type": "stream",
     "text": [
      "-----loss_trans 0.5976242\n"
     ]
    },
    {
     "data": {
      "text/plain": [
       "('Current seed',\n",
       " 0,\n",
       " 'Training step',\n",
       " 7900,\n",
       " 'Gradient descent loss',\n",
       " 0.4567447900772095,\n",
       " 'GD ++ loss',\n",
       " 0.4316410422325134,\n",
       " 'Trained TF loss',\n",
       " 0.47720906138420105,\n",
       " 'Interpolated model loss',\n",
       " 38.85091018676758,\n",
       " 'Cosine sim TF vs GD',\n",
       " 0.9633032083511353,\n",
       " 'Cosine sim TF vs GD++',\n",
       " 0.9534380435943604)"
      ]
     },
     "metadata": {},
     "output_type": "display_data"
    },
    {
     "name": "stdout",
     "output_type": "stream",
     "text": [
      "-----loss_trans 0.5686365\n"
     ]
    },
    {
     "data": {
      "text/plain": [
       "('Current seed',\n",
       " 0,\n",
       " 'Training step',\n",
       " 7900,\n",
       " 'Gradient descent loss',\n",
       " 0.4567447900772095,\n",
       " 'GD ++ loss',\n",
       " 0.4316410422325134,\n",
       " 'Trained TF loss',\n",
       " 0.47720906138420105,\n",
       " 'Interpolated model loss',\n",
       " 38.85091018676758,\n",
       " 'Cosine sim TF vs GD',\n",
       " 0.9633032083511353,\n",
       " 'Cosine sim TF vs GD++',\n",
       " 0.9534380435943604)"
      ]
     },
     "metadata": {},
     "output_type": "display_data"
    },
    {
     "name": "stdout",
     "output_type": "stream",
     "text": [
      "-----loss_trans 0.542325\n"
     ]
    },
    {
     "data": {
      "text/plain": [
       "('Current seed',\n",
       " 0,\n",
       " 'Training step',\n",
       " 7900,\n",
       " 'Gradient descent loss',\n",
       " 0.4567447900772095,\n",
       " 'GD ++ loss',\n",
       " 0.4316410422325134,\n",
       " 'Trained TF loss',\n",
       " 0.47720906138420105,\n",
       " 'Interpolated model loss',\n",
       " 38.85091018676758,\n",
       " 'Cosine sim TF vs GD',\n",
       " 0.9633032083511353,\n",
       " 'Cosine sim TF vs GD++',\n",
       " 0.9534380435943604)"
      ]
     },
     "metadata": {},
     "output_type": "display_data"
    },
    {
     "name": "stdout",
     "output_type": "stream",
     "text": [
      "-----loss_trans 0.52315253\n"
     ]
    },
    {
     "data": {
      "text/plain": [
       "('Current seed',\n",
       " 0,\n",
       " 'Training step',\n",
       " 7900,\n",
       " 'Gradient descent loss',\n",
       " 0.4567447900772095,\n",
       " 'GD ++ loss',\n",
       " 0.4316410422325134,\n",
       " 'Trained TF loss',\n",
       " 0.47720906138420105,\n",
       " 'Interpolated model loss',\n",
       " 38.85091018676758,\n",
       " 'Cosine sim TF vs GD',\n",
       " 0.9633032083511353,\n",
       " 'Cosine sim TF vs GD++',\n",
       " 0.9534380435943604)"
      ]
     },
     "metadata": {},
     "output_type": "display_data"
    },
    {
     "name": "stdout",
     "output_type": "stream",
     "text": [
      "-----loss_trans 0.5049707\n"
     ]
    },
    {
     "data": {
      "text/plain": [
       "('Current seed',\n",
       " 0,\n",
       " 'Training step',\n",
       " 7900,\n",
       " 'Gradient descent loss',\n",
       " 0.4567447900772095,\n",
       " 'GD ++ loss',\n",
       " 0.4316410422325134,\n",
       " 'Trained TF loss',\n",
       " 0.47720906138420105,\n",
       " 'Interpolated model loss',\n",
       " 38.85091018676758,\n",
       " 'Cosine sim TF vs GD',\n",
       " 0.9633032083511353,\n",
       " 'Cosine sim TF vs GD++',\n",
       " 0.9534380435943604)"
      ]
     },
     "metadata": {},
     "output_type": "display_data"
    },
    {
     "name": "stdout",
     "output_type": "stream",
     "text": [
      "-----loss_trans 0.4938133\n"
     ]
    },
    {
     "data": {
      "text/plain": [
       "('Current seed',\n",
       " 0,\n",
       " 'Training step',\n",
       " 7900,\n",
       " 'Gradient descent loss',\n",
       " 0.4567447900772095,\n",
       " 'GD ++ loss',\n",
       " 0.4316410422325134,\n",
       " 'Trained TF loss',\n",
       " 0.47720906138420105,\n",
       " 'Interpolated model loss',\n",
       " 38.85091018676758,\n",
       " 'Cosine sim TF vs GD',\n",
       " 0.9633032083511353,\n",
       " 'Cosine sim TF vs GD++',\n",
       " 0.9534380435943604)"
      ]
     },
     "metadata": {},
     "output_type": "display_data"
    },
    {
     "name": "stdout",
     "output_type": "stream",
     "text": [
      "-----loss_trans 0.48999503\n"
     ]
    },
    {
     "data": {
      "text/plain": [
       "('Current seed',\n",
       " 0,\n",
       " 'Training step',\n",
       " 7900,\n",
       " 'Gradient descent loss',\n",
       " 0.4567447900772095,\n",
       " 'GD ++ loss',\n",
       " 0.4316410422325134,\n",
       " 'Trained TF loss',\n",
       " 0.47720906138420105,\n",
       " 'Interpolated model loss',\n",
       " 38.85091018676758,\n",
       " 'Cosine sim TF vs GD',\n",
       " 0.9633032083511353,\n",
       " 'Cosine sim TF vs GD++',\n",
       " 0.9534380435943604)"
      ]
     },
     "metadata": {},
     "output_type": "display_data"
    },
    {
     "name": "stdout",
     "output_type": "stream",
     "text": [
      "-----loss_trans 0.48845658\n"
     ]
    },
    {
     "data": {
      "text/plain": [
       "('Current seed',\n",
       " 0,\n",
       " 'Training step',\n",
       " 7900,\n",
       " 'Gradient descent loss',\n",
       " 0.4567447900772095,\n",
       " 'GD ++ loss',\n",
       " 0.4316410422325134,\n",
       " 'Trained TF loss',\n",
       " 0.47720906138420105,\n",
       " 'Interpolated model loss',\n",
       " 38.85091018676758,\n",
       " 'Cosine sim TF vs GD',\n",
       " 0.9633032083511353,\n",
       " 'Cosine sim TF vs GD++',\n",
       " 0.9534380435943604)"
      ]
     },
     "metadata": {},
     "output_type": "display_data"
    },
    {
     "name": "stdout",
     "output_type": "stream",
     "text": [
      "-----loss_trans 0.48728448\n"
     ]
    },
    {
     "data": {
      "text/plain": [
       "('Current seed',\n",
       " 0,\n",
       " 'Training step',\n",
       " 7900,\n",
       " 'Gradient descent loss',\n",
       " 0.4567447900772095,\n",
       " 'GD ++ loss',\n",
       " 0.4316410422325134,\n",
       " 'Trained TF loss',\n",
       " 0.47720906138420105,\n",
       " 'Interpolated model loss',\n",
       " 38.85091018676758,\n",
       " 'Cosine sim TF vs GD',\n",
       " 0.9633032083511353,\n",
       " 'Cosine sim TF vs GD++',\n",
       " 0.9534380435943604)"
      ]
     },
     "metadata": {},
     "output_type": "display_data"
    },
    {
     "name": "stdout",
     "output_type": "stream",
     "text": [
      "-----loss_trans 0.48880178\n"
     ]
    },
    {
     "data": {
      "text/plain": [
       "('Current seed',\n",
       " 0,\n",
       " 'Training step',\n",
       " 7900,\n",
       " 'Gradient descent loss',\n",
       " 0.4567447900772095,\n",
       " 'GD ++ loss',\n",
       " 0.4316410422325134,\n",
       " 'Trained TF loss',\n",
       " 0.47720906138420105,\n",
       " 'Interpolated model loss',\n",
       " 38.85091018676758,\n",
       " 'Cosine sim TF vs GD',\n",
       " 0.9633032083511353,\n",
       " 'Cosine sim TF vs GD++',\n",
       " 0.9534380435943604)"
      ]
     },
     "metadata": {},
     "output_type": "display_data"
    },
    {
     "name": "stdout",
     "output_type": "stream",
     "text": [
      "-----loss_trans 0.48692438\n"
     ]
    },
    {
     "data": {
      "text/plain": [
       "('Current seed',\n",
       " 0,\n",
       " 'Training step',\n",
       " 7900,\n",
       " 'Gradient descent loss',\n",
       " 0.4567447900772095,\n",
       " 'GD ++ loss',\n",
       " 0.4316410422325134,\n",
       " 'Trained TF loss',\n",
       " 0.47720906138420105,\n",
       " 'Interpolated model loss',\n",
       " 38.85091018676758,\n",
       " 'Cosine sim TF vs GD',\n",
       " 0.9633032083511353,\n",
       " 'Cosine sim TF vs GD++',\n",
       " 0.9534380435943604)"
      ]
     },
     "metadata": {},
     "output_type": "display_data"
    },
    {
     "name": "stdout",
     "output_type": "stream",
     "text": [
      "-----loss_trans 0.4859715\n"
     ]
    },
    {
     "data": {
      "text/plain": [
       "('Current seed',\n",
       " 0,\n",
       " 'Training step',\n",
       " 7900,\n",
       " 'Gradient descent loss',\n",
       " 0.4567447900772095,\n",
       " 'GD ++ loss',\n",
       " 0.4316410422325134,\n",
       " 'Trained TF loss',\n",
       " 0.47720906138420105,\n",
       " 'Interpolated model loss',\n",
       " 38.85091018676758,\n",
       " 'Cosine sim TF vs GD',\n",
       " 0.9633032083511353,\n",
       " 'Cosine sim TF vs GD++',\n",
       " 0.9534380435943604)"
      ]
     },
     "metadata": {},
     "output_type": "display_data"
    },
    {
     "name": "stdout",
     "output_type": "stream",
     "text": [
      "-----loss_trans 0.48496732\n"
     ]
    },
    {
     "data": {
      "text/plain": [
       "('Current seed',\n",
       " 0,\n",
       " 'Training step',\n",
       " 7900,\n",
       " 'Gradient descent loss',\n",
       " 0.4567447900772095,\n",
       " 'GD ++ loss',\n",
       " 0.4316410422325134,\n",
       " 'Trained TF loss',\n",
       " 0.47720906138420105,\n",
       " 'Interpolated model loss',\n",
       " 38.85091018676758,\n",
       " 'Cosine sim TF vs GD',\n",
       " 0.9633032083511353,\n",
       " 'Cosine sim TF vs GD++',\n",
       " 0.9534380435943604)"
      ]
     },
     "metadata": {},
     "output_type": "display_data"
    },
    {
     "name": "stdout",
     "output_type": "stream",
     "text": [
      "-----loss_trans 0.48362672\n"
     ]
    },
    {
     "data": {
      "text/plain": [
       "('Current seed',\n",
       " 0,\n",
       " 'Training step',\n",
       " 7900,\n",
       " 'Gradient descent loss',\n",
       " 0.4567447900772095,\n",
       " 'GD ++ loss',\n",
       " 0.4316410422325134,\n",
       " 'Trained TF loss',\n",
       " 0.47720906138420105,\n",
       " 'Interpolated model loss',\n",
       " 38.85091018676758,\n",
       " 'Cosine sim TF vs GD',\n",
       " 0.9633032083511353,\n",
       " 'Cosine sim TF vs GD++',\n",
       " 0.9534380435943604)"
      ]
     },
     "metadata": {},
     "output_type": "display_data"
    },
    {
     "name": "stdout",
     "output_type": "stream",
     "text": [
      "-----loss_trans 0.48682204\n"
     ]
    },
    {
     "data": {
      "text/plain": [
       "('Current seed',\n",
       " 0,\n",
       " 'Training step',\n",
       " 7900,\n",
       " 'Gradient descent loss',\n",
       " 0.4567447900772095,\n",
       " 'GD ++ loss',\n",
       " 0.4316410422325134,\n",
       " 'Trained TF loss',\n",
       " 0.47720906138420105,\n",
       " 'Interpolated model loss',\n",
       " 38.85091018676758,\n",
       " 'Cosine sim TF vs GD',\n",
       " 0.9633032083511353,\n",
       " 'Cosine sim TF vs GD++',\n",
       " 0.9534380435943604)"
      ]
     },
     "metadata": {},
     "output_type": "display_data"
    },
    {
     "name": "stdout",
     "output_type": "stream",
     "text": [
      "-----loss_trans 0.48494425\n"
     ]
    },
    {
     "data": {
      "text/plain": [
       "('Current seed',\n",
       " 0,\n",
       " 'Training step',\n",
       " 7900,\n",
       " 'Gradient descent loss',\n",
       " 0.4567447900772095,\n",
       " 'GD ++ loss',\n",
       " 0.4316410422325134,\n",
       " 'Trained TF loss',\n",
       " 0.47720906138420105,\n",
       " 'Interpolated model loss',\n",
       " 38.85091018676758,\n",
       " 'Cosine sim TF vs GD',\n",
       " 0.9633032083511353,\n",
       " 'Cosine sim TF vs GD++',\n",
       " 0.9534380435943604)"
      ]
     },
     "metadata": {},
     "output_type": "display_data"
    },
    {
     "name": "stdout",
     "output_type": "stream",
     "text": [
      "-----loss_trans 0.49008796\n"
     ]
    },
    {
     "data": {
      "text/plain": [
       "('Current seed',\n",
       " 0,\n",
       " 'Training step',\n",
       " 7900,\n",
       " 'Gradient descent loss',\n",
       " 0.4567447900772095,\n",
       " 'GD ++ loss',\n",
       " 0.4316410422325134,\n",
       " 'Trained TF loss',\n",
       " 0.47720906138420105,\n",
       " 'Interpolated model loss',\n",
       " 38.85091018676758,\n",
       " 'Cosine sim TF vs GD',\n",
       " 0.9633032083511353,\n",
       " 'Cosine sim TF vs GD++',\n",
       " 0.9534380435943604)"
      ]
     },
     "metadata": {},
     "output_type": "display_data"
    },
    {
     "name": "stdout",
     "output_type": "stream",
     "text": [
      "-----loss_trans 0.48358923\n"
     ]
    },
    {
     "data": {
      "text/plain": [
       "('Current seed',\n",
       " 0,\n",
       " 'Training step',\n",
       " 7900,\n",
       " 'Gradient descent loss',\n",
       " 0.4567447900772095,\n",
       " 'GD ++ loss',\n",
       " 0.4316410422325134,\n",
       " 'Trained TF loss',\n",
       " 0.47720906138420105,\n",
       " 'Interpolated model loss',\n",
       " 38.85091018676758,\n",
       " 'Cosine sim TF vs GD',\n",
       " 0.9633032083511353,\n",
       " 'Cosine sim TF vs GD++',\n",
       " 0.9534380435943604)"
      ]
     },
     "metadata": {},
     "output_type": "display_data"
    },
    {
     "name": "stdout",
     "output_type": "stream",
     "text": [
      "-----loss_trans 0.48416469\n"
     ]
    },
    {
     "data": {
      "text/plain": [
       "('Current seed',\n",
       " 0,\n",
       " 'Training step',\n",
       " 7900,\n",
       " 'Gradient descent loss',\n",
       " 0.4567447900772095,\n",
       " 'GD ++ loss',\n",
       " 0.4316410422325134,\n",
       " 'Trained TF loss',\n",
       " 0.47720906138420105,\n",
       " 'Interpolated model loss',\n",
       " 38.85091018676758,\n",
       " 'Cosine sim TF vs GD',\n",
       " 0.9633032083511353,\n",
       " 'Cosine sim TF vs GD++',\n",
       " 0.9534380435943604)"
      ]
     },
     "metadata": {},
     "output_type": "display_data"
    },
    {
     "name": "stdout",
     "output_type": "stream",
     "text": [
      "-----loss_trans 0.48545843\n"
     ]
    },
    {
     "data": {
      "text/plain": [
       "('Current seed',\n",
       " 0,\n",
       " 'Training step',\n",
       " 7900,\n",
       " 'Gradient descent loss',\n",
       " 0.4567447900772095,\n",
       " 'GD ++ loss',\n",
       " 0.4316410422325134,\n",
       " 'Trained TF loss',\n",
       " 0.47720906138420105,\n",
       " 'Interpolated model loss',\n",
       " 38.85091018676758,\n",
       " 'Cosine sim TF vs GD',\n",
       " 0.9633032083511353,\n",
       " 'Cosine sim TF vs GD++',\n",
       " 0.9534380435943604)"
      ]
     },
     "metadata": {},
     "output_type": "display_data"
    },
    {
     "name": "stdout",
     "output_type": "stream",
     "text": [
      "-----loss_trans 0.48634568\n"
     ]
    },
    {
     "data": {
      "text/plain": [
       "('Current seed',\n",
       " 0,\n",
       " 'Training step',\n",
       " 7900,\n",
       " 'Gradient descent loss',\n",
       " 0.4567447900772095,\n",
       " 'GD ++ loss',\n",
       " 0.4316410422325134,\n",
       " 'Trained TF loss',\n",
       " 0.47720906138420105,\n",
       " 'Interpolated model loss',\n",
       " 38.85091018676758,\n",
       " 'Cosine sim TF vs GD',\n",
       " 0.9633032083511353,\n",
       " 'Cosine sim TF vs GD++',\n",
       " 0.9534380435943604)"
      ]
     },
     "metadata": {},
     "output_type": "display_data"
    },
    {
     "name": "stdout",
     "output_type": "stream",
     "text": [
      "-----loss_trans 0.48510003\n"
     ]
    },
    {
     "data": {
      "text/plain": [
       "('Current seed',\n",
       " 0,\n",
       " 'Training step',\n",
       " 7900,\n",
       " 'Gradient descent loss',\n",
       " 0.4567447900772095,\n",
       " 'GD ++ loss',\n",
       " 0.4316410422325134,\n",
       " 'Trained TF loss',\n",
       " 0.47720906138420105,\n",
       " 'Interpolated model loss',\n",
       " 38.85091018676758,\n",
       " 'Cosine sim TF vs GD',\n",
       " 0.9633032083511353,\n",
       " 'Cosine sim TF vs GD++',\n",
       " 0.9534380435943604)"
      ]
     },
     "metadata": {},
     "output_type": "display_data"
    },
    {
     "name": "stdout",
     "output_type": "stream",
     "text": [
      "-----loss_trans 0.48514533\n"
     ]
    },
    {
     "data": {
      "text/plain": [
       "('Current seed',\n",
       " 0,\n",
       " 'Training step',\n",
       " 7900,\n",
       " 'Gradient descent loss',\n",
       " 0.4567447900772095,\n",
       " 'GD ++ loss',\n",
       " 0.4316410422325134,\n",
       " 'Trained TF loss',\n",
       " 0.47720906138420105,\n",
       " 'Interpolated model loss',\n",
       " 38.85091018676758,\n",
       " 'Cosine sim TF vs GD',\n",
       " 0.9633032083511353,\n",
       " 'Cosine sim TF vs GD++',\n",
       " 0.9534380435943604)"
      ]
     },
     "metadata": {},
     "output_type": "display_data"
    },
    {
     "name": "stdout",
     "output_type": "stream",
     "text": [
      "-----loss_trans 0.48322302\n"
     ]
    },
    {
     "data": {
      "text/plain": [
       "('Current seed',\n",
       " 0,\n",
       " 'Training step',\n",
       " 7900,\n",
       " 'Gradient descent loss',\n",
       " 0.4567447900772095,\n",
       " 'GD ++ loss',\n",
       " 0.4316410422325134,\n",
       " 'Trained TF loss',\n",
       " 0.47720906138420105,\n",
       " 'Interpolated model loss',\n",
       " 38.85091018676758,\n",
       " 'Cosine sim TF vs GD',\n",
       " 0.9633032083511353,\n",
       " 'Cosine sim TF vs GD++',\n",
       " 0.9534380435943604)"
      ]
     },
     "metadata": {},
     "output_type": "display_data"
    },
    {
     "name": "stdout",
     "output_type": "stream",
     "text": [
      "-----loss_trans 0.48435563\n"
     ]
    },
    {
     "data": {
      "text/plain": [
       "('Current seed',\n",
       " 0,\n",
       " 'Training step',\n",
       " 7900,\n",
       " 'Gradient descent loss',\n",
       " 0.4567447900772095,\n",
       " 'GD ++ loss',\n",
       " 0.4316410422325134,\n",
       " 'Trained TF loss',\n",
       " 0.47720906138420105,\n",
       " 'Interpolated model loss',\n",
       " 38.85091018676758,\n",
       " 'Cosine sim TF vs GD',\n",
       " 0.9633032083511353,\n",
       " 'Cosine sim TF vs GD++',\n",
       " 0.9534380435943604)"
      ]
     },
     "metadata": {},
     "output_type": "display_data"
    },
    {
     "name": "stdout",
     "output_type": "stream",
     "text": [
      "-----loss_trans 0.48507825\n"
     ]
    },
    {
     "data": {
      "text/plain": [
       "('Current seed',\n",
       " 0,\n",
       " 'Training step',\n",
       " 7900,\n",
       " 'Gradient descent loss',\n",
       " 0.4567447900772095,\n",
       " 'GD ++ loss',\n",
       " 0.4316410422325134,\n",
       " 'Trained TF loss',\n",
       " 0.47720906138420105,\n",
       " 'Interpolated model loss',\n",
       " 38.85091018676758,\n",
       " 'Cosine sim TF vs GD',\n",
       " 0.9633032083511353,\n",
       " 'Cosine sim TF vs GD++',\n",
       " 0.9534380435943604)"
      ]
     },
     "metadata": {},
     "output_type": "display_data"
    },
    {
     "name": "stdout",
     "output_type": "stream",
     "text": [
      "-----loss_trans 0.4833802\n"
     ]
    },
    {
     "data": {
      "text/plain": [
       "('Current seed',\n",
       " 0,\n",
       " 'Training step',\n",
       " 7900,\n",
       " 'Gradient descent loss',\n",
       " 0.4567447900772095,\n",
       " 'GD ++ loss',\n",
       " 0.4316410422325134,\n",
       " 'Trained TF loss',\n",
       " 0.47720906138420105,\n",
       " 'Interpolated model loss',\n",
       " 38.85091018676758,\n",
       " 'Cosine sim TF vs GD',\n",
       " 0.9633032083511353,\n",
       " 'Cosine sim TF vs GD++',\n",
       " 0.9534380435943604)"
      ]
     },
     "metadata": {},
     "output_type": "display_data"
    },
    {
     "name": "stdout",
     "output_type": "stream",
     "text": [
      "-----loss_trans 0.48445013\n"
     ]
    },
    {
     "data": {
      "text/plain": [
       "('Current seed',\n",
       " 0,\n",
       " 'Training step',\n",
       " 7900,\n",
       " 'Gradient descent loss',\n",
       " 0.4567447900772095,\n",
       " 'GD ++ loss',\n",
       " 0.4316410422325134,\n",
       " 'Trained TF loss',\n",
       " 0.47720906138420105,\n",
       " 'Interpolated model loss',\n",
       " 38.85091018676758,\n",
       " 'Cosine sim TF vs GD',\n",
       " 0.9633032083511353,\n",
       " 'Cosine sim TF vs GD++',\n",
       " 0.9534380435943604)"
      ]
     },
     "metadata": {},
     "output_type": "display_data"
    },
    {
     "name": "stdout",
     "output_type": "stream",
     "text": [
      "-----loss_trans 0.48378092\n"
     ]
    },
    {
     "data": {
      "text/plain": [
       "('Current seed',\n",
       " 0,\n",
       " 'Training step',\n",
       " 7900,\n",
       " 'Gradient descent loss',\n",
       " 0.4567447900772095,\n",
       " 'GD ++ loss',\n",
       " 0.4316410422325134,\n",
       " 'Trained TF loss',\n",
       " 0.47720906138420105,\n",
       " 'Interpolated model loss',\n",
       " 38.85091018676758,\n",
       " 'Cosine sim TF vs GD',\n",
       " 0.9633032083511353,\n",
       " 'Cosine sim TF vs GD++',\n",
       " 0.9534380435943604)"
      ]
     },
     "metadata": {},
     "output_type": "display_data"
    },
    {
     "name": "stdout",
     "output_type": "stream",
     "text": [
      "-----loss_trans 0.48687688\n"
     ]
    },
    {
     "data": {
      "text/plain": [
       "('Current seed',\n",
       " 0,\n",
       " 'Training step',\n",
       " 7900,\n",
       " 'Gradient descent loss',\n",
       " 0.4567447900772095,\n",
       " 'GD ++ loss',\n",
       " 0.4316410422325134,\n",
       " 'Trained TF loss',\n",
       " 0.47720906138420105,\n",
       " 'Interpolated model loss',\n",
       " 38.85091018676758,\n",
       " 'Cosine sim TF vs GD',\n",
       " 0.9633032083511353,\n",
       " 'Cosine sim TF vs GD++',\n",
       " 0.9534380435943604)"
      ]
     },
     "metadata": {},
     "output_type": "display_data"
    },
    {
     "name": "stdout",
     "output_type": "stream",
     "text": [
      "-----loss_trans 0.4828299\n"
     ]
    },
    {
     "data": {
      "text/plain": [
       "('Current seed',\n",
       " 0,\n",
       " 'Training step',\n",
       " 7900,\n",
       " 'Gradient descent loss',\n",
       " 0.4567447900772095,\n",
       " 'GD ++ loss',\n",
       " 0.4316410422325134,\n",
       " 'Trained TF loss',\n",
       " 0.47720906138420105,\n",
       " 'Interpolated model loss',\n",
       " 38.85091018676758,\n",
       " 'Cosine sim TF vs GD',\n",
       " 0.9633032083511353,\n",
       " 'Cosine sim TF vs GD++',\n",
       " 0.9534380435943604)"
      ]
     },
     "metadata": {},
     "output_type": "display_data"
    },
    {
     "name": "stdout",
     "output_type": "stream",
     "text": [
      "-----loss_trans 0.48324963\n"
     ]
    },
    {
     "data": {
      "text/plain": [
       "('Current seed',\n",
       " 0,\n",
       " 'Training step',\n",
       " 7900,\n",
       " 'Gradient descent loss',\n",
       " 0.4567447900772095,\n",
       " 'GD ++ loss',\n",
       " 0.4316410422325134,\n",
       " 'Trained TF loss',\n",
       " 0.47720906138420105,\n",
       " 'Interpolated model loss',\n",
       " 38.85091018676758,\n",
       " 'Cosine sim TF vs GD',\n",
       " 0.9633032083511353,\n",
       " 'Cosine sim TF vs GD++',\n",
       " 0.9534380435943604)"
      ]
     },
     "metadata": {},
     "output_type": "display_data"
    },
    {
     "name": "stdout",
     "output_type": "stream",
     "text": [
      "-----loss_trans 0.48530138\n"
     ]
    },
    {
     "data": {
      "text/plain": [
       "('Current seed',\n",
       " 0,\n",
       " 'Training step',\n",
       " 7900,\n",
       " 'Gradient descent loss',\n",
       " 0.4567447900772095,\n",
       " 'GD ++ loss',\n",
       " 0.4316410422325134,\n",
       " 'Trained TF loss',\n",
       " 0.47720906138420105,\n",
       " 'Interpolated model loss',\n",
       " 38.85091018676758,\n",
       " 'Cosine sim TF vs GD',\n",
       " 0.9633032083511353,\n",
       " 'Cosine sim TF vs GD++',\n",
       " 0.9534380435943604)"
      ]
     },
     "metadata": {},
     "output_type": "display_data"
    },
    {
     "name": "stdout",
     "output_type": "stream",
     "text": [
      "-----loss_trans 0.484209\n"
     ]
    },
    {
     "data": {
      "text/plain": [
       "('Current seed',\n",
       " 0,\n",
       " 'Training step',\n",
       " 7900,\n",
       " 'Gradient descent loss',\n",
       " 0.4567447900772095,\n",
       " 'GD ++ loss',\n",
       " 0.4316410422325134,\n",
       " 'Trained TF loss',\n",
       " 0.47720906138420105,\n",
       " 'Interpolated model loss',\n",
       " 38.85091018676758,\n",
       " 'Cosine sim TF vs GD',\n",
       " 0.9633032083511353,\n",
       " 'Cosine sim TF vs GD++',\n",
       " 0.9534380435943604)"
      ]
     },
     "metadata": {},
     "output_type": "display_data"
    },
    {
     "name": "stdout",
     "output_type": "stream",
     "text": [
      "-----loss_trans 0.48376775\n"
     ]
    },
    {
     "data": {
      "text/plain": [
       "('Current seed',\n",
       " 0,\n",
       " 'Training step',\n",
       " 7900,\n",
       " 'Gradient descent loss',\n",
       " 0.4567447900772095,\n",
       " 'GD ++ loss',\n",
       " 0.4316410422325134,\n",
       " 'Trained TF loss',\n",
       " 0.47720906138420105,\n",
       " 'Interpolated model loss',\n",
       " 38.85091018676758,\n",
       " 'Cosine sim TF vs GD',\n",
       " 0.9633032083511353,\n",
       " 'Cosine sim TF vs GD++',\n",
       " 0.9534380435943604)"
      ]
     },
     "metadata": {},
     "output_type": "display_data"
    },
    {
     "name": "stdout",
     "output_type": "stream",
     "text": [
      "-----loss_trans 0.48357278\n"
     ]
    },
    {
     "data": {
      "text/plain": [
       "('Current seed',\n",
       " 0,\n",
       " 'Training step',\n",
       " 7900,\n",
       " 'Gradient descent loss',\n",
       " 0.4567447900772095,\n",
       " 'GD ++ loss',\n",
       " 0.4316410422325134,\n",
       " 'Trained TF loss',\n",
       " 0.47720906138420105,\n",
       " 'Interpolated model loss',\n",
       " 38.85091018676758,\n",
       " 'Cosine sim TF vs GD',\n",
       " 0.9633032083511353,\n",
       " 'Cosine sim TF vs GD++',\n",
       " 0.9534380435943604)"
      ]
     },
     "metadata": {},
     "output_type": "display_data"
    },
    {
     "name": "stdout",
     "output_type": "stream",
     "text": [
      "-----loss_trans 0.48250458\n"
     ]
    },
    {
     "data": {
      "text/plain": [
       "('Current seed',\n",
       " 0,\n",
       " 'Training step',\n",
       " 7900,\n",
       " 'Gradient descent loss',\n",
       " 0.4567447900772095,\n",
       " 'GD ++ loss',\n",
       " 0.4316410422325134,\n",
       " 'Trained TF loss',\n",
       " 0.47720906138420105,\n",
       " 'Interpolated model loss',\n",
       " 38.85091018676758,\n",
       " 'Cosine sim TF vs GD',\n",
       " 0.9633032083511353,\n",
       " 'Cosine sim TF vs GD++',\n",
       " 0.9534380435943604)"
      ]
     },
     "metadata": {},
     "output_type": "display_data"
    },
    {
     "name": "stdout",
     "output_type": "stream",
     "text": [
      "-----loss_trans 0.48459318\n"
     ]
    },
    {
     "data": {
      "text/plain": [
       "('Current seed',\n",
       " 0,\n",
       " 'Training step',\n",
       " 7900,\n",
       " 'Gradient descent loss',\n",
       " 0.4567447900772095,\n",
       " 'GD ++ loss',\n",
       " 0.4316410422325134,\n",
       " 'Trained TF loss',\n",
       " 0.47720906138420105,\n",
       " 'Interpolated model loss',\n",
       " 38.85091018676758,\n",
       " 'Cosine sim TF vs GD',\n",
       " 0.9633032083511353,\n",
       " 'Cosine sim TF vs GD++',\n",
       " 0.9534380435943604)"
      ]
     },
     "metadata": {},
     "output_type": "display_data"
    },
    {
     "name": "stdout",
     "output_type": "stream",
     "text": [
      "-----loss_trans 0.4833226\n"
     ]
    },
    {
     "data": {
      "text/plain": [
       "('Current seed',\n",
       " 0,\n",
       " 'Training step',\n",
       " 7900,\n",
       " 'Gradient descent loss',\n",
       " 0.4567447900772095,\n",
       " 'GD ++ loss',\n",
       " 0.4316410422325134,\n",
       " 'Trained TF loss',\n",
       " 0.47720906138420105,\n",
       " 'Interpolated model loss',\n",
       " 38.85091018676758,\n",
       " 'Cosine sim TF vs GD',\n",
       " 0.9633032083511353,\n",
       " 'Cosine sim TF vs GD++',\n",
       " 0.9534380435943604)"
      ]
     },
     "metadata": {},
     "output_type": "display_data"
    },
    {
     "name": "stdout",
     "output_type": "stream",
     "text": [
      "-----loss_trans 0.48375002\n"
     ]
    },
    {
     "data": {
      "text/plain": [
       "('Current seed',\n",
       " 0,\n",
       " 'Training step',\n",
       " 7900,\n",
       " 'Gradient descent loss',\n",
       " 0.4567447900772095,\n",
       " 'GD ++ loss',\n",
       " 0.4316410422325134,\n",
       " 'Trained TF loss',\n",
       " 0.47720906138420105,\n",
       " 'Interpolated model loss',\n",
       " 38.85091018676758,\n",
       " 'Cosine sim TF vs GD',\n",
       " 0.9633032083511353,\n",
       " 'Cosine sim TF vs GD++',\n",
       " 0.9534380435943604)"
      ]
     },
     "metadata": {},
     "output_type": "display_data"
    },
    {
     "name": "stdout",
     "output_type": "stream",
     "text": [
      "-----loss_trans 0.4821218\n"
     ]
    },
    {
     "data": {
      "text/plain": [
       "('Current seed',\n",
       " 0,\n",
       " 'Training step',\n",
       " 7900,\n",
       " 'Gradient descent loss',\n",
       " 0.4567447900772095,\n",
       " 'GD ++ loss',\n",
       " 0.4316410422325134,\n",
       " 'Trained TF loss',\n",
       " 0.47720906138420105,\n",
       " 'Interpolated model loss',\n",
       " 38.85091018676758,\n",
       " 'Cosine sim TF vs GD',\n",
       " 0.9633032083511353,\n",
       " 'Cosine sim TF vs GD++',\n",
       " 0.9534380435943604)"
      ]
     },
     "metadata": {},
     "output_type": "display_data"
    },
    {
     "name": "stdout",
     "output_type": "stream",
     "text": [
      "-----loss_trans 0.48351085\n"
     ]
    },
    {
     "data": {
      "text/plain": [
       "('Current seed',\n",
       " 0,\n",
       " 'Training step',\n",
       " 7900,\n",
       " 'Gradient descent loss',\n",
       " 0.4567447900772095,\n",
       " 'GD ++ loss',\n",
       " 0.4316410422325134,\n",
       " 'Trained TF loss',\n",
       " 0.47720906138420105,\n",
       " 'Interpolated model loss',\n",
       " 38.85091018676758,\n",
       " 'Cosine sim TF vs GD',\n",
       " 0.9633032083511353,\n",
       " 'Cosine sim TF vs GD++',\n",
       " 0.9534380435943604)"
      ]
     },
     "metadata": {},
     "output_type": "display_data"
    },
    {
     "name": "stdout",
     "output_type": "stream",
     "text": [
      "-----loss_trans 0.48381755\n"
     ]
    },
    {
     "data": {
      "text/plain": [
       "('Current seed',\n",
       " 0,\n",
       " 'Training step',\n",
       " 7900,\n",
       " 'Gradient descent loss',\n",
       " 0.4567447900772095,\n",
       " 'GD ++ loss',\n",
       " 0.4316410422325134,\n",
       " 'Trained TF loss',\n",
       " 0.47720906138420105,\n",
       " 'Interpolated model loss',\n",
       " 38.85091018676758,\n",
       " 'Cosine sim TF vs GD',\n",
       " 0.9633032083511353,\n",
       " 'Cosine sim TF vs GD++',\n",
       " 0.9534380435943604)"
      ]
     },
     "metadata": {},
     "output_type": "display_data"
    },
    {
     "name": "stdout",
     "output_type": "stream",
     "text": [
      "-----loss_trans 0.4806798\n"
     ]
    },
    {
     "data": {
      "text/plain": [
       "('Current seed',\n",
       " 0,\n",
       " 'Training step',\n",
       " 7900,\n",
       " 'Gradient descent loss',\n",
       " 0.4567447900772095,\n",
       " 'GD ++ loss',\n",
       " 0.4316410422325134,\n",
       " 'Trained TF loss',\n",
       " 0.47720906138420105,\n",
       " 'Interpolated model loss',\n",
       " 38.85091018676758,\n",
       " 'Cosine sim TF vs GD',\n",
       " 0.9633032083511353,\n",
       " 'Cosine sim TF vs GD++',\n",
       " 0.9534380435943604)"
      ]
     },
     "metadata": {},
     "output_type": "display_data"
    },
    {
     "name": "stdout",
     "output_type": "stream",
     "text": [
      "-----loss_trans 0.48104656\n"
     ]
    },
    {
     "data": {
      "text/plain": [
       "('Current seed',\n",
       " 0,\n",
       " 'Training step',\n",
       " 7900,\n",
       " 'Gradient descent loss',\n",
       " 0.4567447900772095,\n",
       " 'GD ++ loss',\n",
       " 0.4316410422325134,\n",
       " 'Trained TF loss',\n",
       " 0.47720906138420105,\n",
       " 'Interpolated model loss',\n",
       " 38.85091018676758,\n",
       " 'Cosine sim TF vs GD',\n",
       " 0.9633032083511353,\n",
       " 'Cosine sim TF vs GD++',\n",
       " 0.9534380435943604)"
      ]
     },
     "metadata": {},
     "output_type": "display_data"
    },
    {
     "name": "stdout",
     "output_type": "stream",
     "text": [
      "-----loss_trans 0.4811218\n"
     ]
    },
    {
     "data": {
      "text/plain": [
       "('Current seed',\n",
       " 0,\n",
       " 'Training step',\n",
       " 7900,\n",
       " 'Gradient descent loss',\n",
       " 0.4567447900772095,\n",
       " 'GD ++ loss',\n",
       " 0.4316410422325134,\n",
       " 'Trained TF loss',\n",
       " 0.47720906138420105,\n",
       " 'Interpolated model loss',\n",
       " 38.85091018676758,\n",
       " 'Cosine sim TF vs GD',\n",
       " 0.9633032083511353,\n",
       " 'Cosine sim TF vs GD++',\n",
       " 0.9534380435943604)"
      ]
     },
     "metadata": {},
     "output_type": "display_data"
    },
    {
     "name": "stdout",
     "output_type": "stream",
     "text": [
      "-----loss_trans 0.48108646\n"
     ]
    },
    {
     "data": {
      "text/plain": [
       "('Current seed',\n",
       " 0,\n",
       " 'Training step',\n",
       " 7900,\n",
       " 'Gradient descent loss',\n",
       " 0.4567447900772095,\n",
       " 'GD ++ loss',\n",
       " 0.4316410422325134,\n",
       " 'Trained TF loss',\n",
       " 0.47720906138420105,\n",
       " 'Interpolated model loss',\n",
       " 38.85091018676758,\n",
       " 'Cosine sim TF vs GD',\n",
       " 0.9633032083511353,\n",
       " 'Cosine sim TF vs GD++',\n",
       " 0.9534380435943604)"
      ]
     },
     "metadata": {},
     "output_type": "display_data"
    },
    {
     "name": "stdout",
     "output_type": "stream",
     "text": [
      "-----loss_trans 0.48033297\n"
     ]
    },
    {
     "data": {
      "text/plain": [
       "('Current seed',\n",
       " 0,\n",
       " 'Training step',\n",
       " 7900,\n",
       " 'Gradient descent loss',\n",
       " 0.4567447900772095,\n",
       " 'GD ++ loss',\n",
       " 0.4316410422325134,\n",
       " 'Trained TF loss',\n",
       " 0.47720906138420105,\n",
       " 'Interpolated model loss',\n",
       " 38.85091018676758,\n",
       " 'Cosine sim TF vs GD',\n",
       " 0.9633032083511353,\n",
       " 'Cosine sim TF vs GD++',\n",
       " 0.9534380435943604)"
      ]
     },
     "metadata": {},
     "output_type": "display_data"
    },
    {
     "name": "stdout",
     "output_type": "stream",
     "text": [
      "-----loss_trans 0.48344\n"
     ]
    },
    {
     "data": {
      "text/plain": [
       "('Current seed',\n",
       " 0,\n",
       " 'Training step',\n",
       " 7900,\n",
       " 'Gradient descent loss',\n",
       " 0.4567447900772095,\n",
       " 'GD ++ loss',\n",
       " 0.4316410422325134,\n",
       " 'Trained TF loss',\n",
       " 0.47720906138420105,\n",
       " 'Interpolated model loss',\n",
       " 38.85091018676758,\n",
       " 'Cosine sim TF vs GD',\n",
       " 0.9633032083511353,\n",
       " 'Cosine sim TF vs GD++',\n",
       " 0.9534380435943604)"
      ]
     },
     "metadata": {},
     "output_type": "display_data"
    },
    {
     "name": "stdout",
     "output_type": "stream",
     "text": [
      "-----loss_trans 0.482138\n"
     ]
    },
    {
     "data": {
      "text/plain": [
       "('Current seed',\n",
       " 0,\n",
       " 'Training step',\n",
       " 7900,\n",
       " 'Gradient descent loss',\n",
       " 0.4567447900772095,\n",
       " 'GD ++ loss',\n",
       " 0.4316410422325134,\n",
       " 'Trained TF loss',\n",
       " 0.47720906138420105,\n",
       " 'Interpolated model loss',\n",
       " 38.85091018676758,\n",
       " 'Cosine sim TF vs GD',\n",
       " 0.9633032083511353,\n",
       " 'Cosine sim TF vs GD++',\n",
       " 0.9534380435943604)"
      ]
     },
     "metadata": {},
     "output_type": "display_data"
    },
    {
     "name": "stdout",
     "output_type": "stream",
     "text": [
      "-----loss_trans 0.48136458\n"
     ]
    },
    {
     "data": {
      "text/plain": [
       "('Current seed',\n",
       " 0,\n",
       " 'Training step',\n",
       " 7900,\n",
       " 'Gradient descent loss',\n",
       " 0.4567447900772095,\n",
       " 'GD ++ loss',\n",
       " 0.4316410422325134,\n",
       " 'Trained TF loss',\n",
       " 0.47720906138420105,\n",
       " 'Interpolated model loss',\n",
       " 38.85091018676758,\n",
       " 'Cosine sim TF vs GD',\n",
       " 0.9633032083511353,\n",
       " 'Cosine sim TF vs GD++',\n",
       " 0.9534380435943604)"
      ]
     },
     "metadata": {},
     "output_type": "display_data"
    },
    {
     "name": "stdout",
     "output_type": "stream",
     "text": [
      "-----loss_trans 0.48262638\n"
     ]
    },
    {
     "data": {
      "text/plain": [
       "('Current seed',\n",
       " 0,\n",
       " 'Training step',\n",
       " 7900,\n",
       " 'Gradient descent loss',\n",
       " 0.4567447900772095,\n",
       " 'GD ++ loss',\n",
       " 0.4316410422325134,\n",
       " 'Trained TF loss',\n",
       " 0.47720906138420105,\n",
       " 'Interpolated model loss',\n",
       " 38.85091018676758,\n",
       " 'Cosine sim TF vs GD',\n",
       " 0.9633032083511353,\n",
       " 'Cosine sim TF vs GD++',\n",
       " 0.9534380435943604)"
      ]
     },
     "metadata": {},
     "output_type": "display_data"
    },
    {
     "name": "stdout",
     "output_type": "stream",
     "text": [
      "-----loss_trans 0.48117742\n"
     ]
    },
    {
     "data": {
      "text/plain": [
       "('Current seed',\n",
       " 0,\n",
       " 'Training step',\n",
       " 7900,\n",
       " 'Gradient descent loss',\n",
       " 0.4567447900772095,\n",
       " 'GD ++ loss',\n",
       " 0.4316410422325134,\n",
       " 'Trained TF loss',\n",
       " 0.47720906138420105,\n",
       " 'Interpolated model loss',\n",
       " 38.85091018676758,\n",
       " 'Cosine sim TF vs GD',\n",
       " 0.9633032083511353,\n",
       " 'Cosine sim TF vs GD++',\n",
       " 0.9534380435943604)"
      ]
     },
     "metadata": {},
     "output_type": "display_data"
    },
    {
     "name": "stdout",
     "output_type": "stream",
     "text": [
      "-----loss_trans 0.48089066\n"
     ]
    },
    {
     "data": {
      "text/plain": [
       "('Current seed',\n",
       " 0,\n",
       " 'Training step',\n",
       " 7900,\n",
       " 'Gradient descent loss',\n",
       " 0.4567447900772095,\n",
       " 'GD ++ loss',\n",
       " 0.4316410422325134,\n",
       " 'Trained TF loss',\n",
       " 0.47720906138420105,\n",
       " 'Interpolated model loss',\n",
       " 38.85091018676758,\n",
       " 'Cosine sim TF vs GD',\n",
       " 0.9633032083511353,\n",
       " 'Cosine sim TF vs GD++',\n",
       " 0.9534380435943604)"
      ]
     },
     "metadata": {},
     "output_type": "display_data"
    },
    {
     "name": "stdout",
     "output_type": "stream",
     "text": [
      "-----loss_trans 0.47942957\n"
     ]
    },
    {
     "data": {
      "text/plain": [
       "('Current seed',\n",
       " 0,\n",
       " 'Training step',\n",
       " 7900,\n",
       " 'Gradient descent loss',\n",
       " 0.4567447900772095,\n",
       " 'GD ++ loss',\n",
       " 0.4316410422325134,\n",
       " 'Trained TF loss',\n",
       " 0.47720906138420105,\n",
       " 'Interpolated model loss',\n",
       " 38.85091018676758,\n",
       " 'Cosine sim TF vs GD',\n",
       " 0.9633032083511353,\n",
       " 'Cosine sim TF vs GD++',\n",
       " 0.9534380435943604)"
      ]
     },
     "metadata": {},
     "output_type": "display_data"
    },
    {
     "name": "stdout",
     "output_type": "stream",
     "text": [
      "-----loss_trans 0.47867444\n"
     ]
    },
    {
     "data": {
      "text/plain": [
       "('Current seed',\n",
       " 0,\n",
       " 'Training step',\n",
       " 7900,\n",
       " 'Gradient descent loss',\n",
       " 0.4567447900772095,\n",
       " 'GD ++ loss',\n",
       " 0.4316410422325134,\n",
       " 'Trained TF loss',\n",
       " 0.47720906138420105,\n",
       " 'Interpolated model loss',\n",
       " 38.85091018676758,\n",
       " 'Cosine sim TF vs GD',\n",
       " 0.9633032083511353,\n",
       " 'Cosine sim TF vs GD++',\n",
       " 0.9534380435943604)"
      ]
     },
     "metadata": {},
     "output_type": "display_data"
    },
    {
     "name": "stdout",
     "output_type": "stream",
     "text": [
      "-----loss_trans 0.48062557\n"
     ]
    },
    {
     "data": {
      "text/plain": [
       "('Current seed',\n",
       " 0,\n",
       " 'Training step',\n",
       " 7900,\n",
       " 'Gradient descent loss',\n",
       " 0.4567447900772095,\n",
       " 'GD ++ loss',\n",
       " 0.4316410422325134,\n",
       " 'Trained TF loss',\n",
       " 0.47720906138420105,\n",
       " 'Interpolated model loss',\n",
       " 38.85091018676758,\n",
       " 'Cosine sim TF vs GD',\n",
       " 0.9633032083511353,\n",
       " 'Cosine sim TF vs GD++',\n",
       " 0.9534380435943604)"
      ]
     },
     "metadata": {},
     "output_type": "display_data"
    },
    {
     "name": "stdout",
     "output_type": "stream",
     "text": [
      "-----loss_trans 0.4799883\n"
     ]
    },
    {
     "data": {
      "text/plain": [
       "('Current seed',\n",
       " 0,\n",
       " 'Training step',\n",
       " 7900,\n",
       " 'Gradient descent loss',\n",
       " 0.4567447900772095,\n",
       " 'GD ++ loss',\n",
       " 0.4316410422325134,\n",
       " 'Trained TF loss',\n",
       " 0.47720906138420105,\n",
       " 'Interpolated model loss',\n",
       " 38.85091018676758,\n",
       " 'Cosine sim TF vs GD',\n",
       " 0.9633032083511353,\n",
       " 'Cosine sim TF vs GD++',\n",
       " 0.9534380435943604)"
      ]
     },
     "metadata": {},
     "output_type": "display_data"
    },
    {
     "name": "stdout",
     "output_type": "stream",
     "text": [
      "-----loss_trans 0.4778888\n"
     ]
    },
    {
     "data": {
      "text/plain": [
       "('Current seed',\n",
       " 0,\n",
       " 'Training step',\n",
       " 7900,\n",
       " 'Gradient descent loss',\n",
       " 0.4567447900772095,\n",
       " 'GD ++ loss',\n",
       " 0.4316410422325134,\n",
       " 'Trained TF loss',\n",
       " 0.47720906138420105,\n",
       " 'Interpolated model loss',\n",
       " 38.85091018676758,\n",
       " 'Cosine sim TF vs GD',\n",
       " 0.9633032083511353,\n",
       " 'Cosine sim TF vs GD++',\n",
       " 0.9534380435943604)"
      ]
     },
     "metadata": {},
     "output_type": "display_data"
    },
    {
     "name": "stdout",
     "output_type": "stream",
     "text": [
      "-----loss_trans 0.47749934\n"
     ]
    },
    {
     "data": {
      "text/plain": [
       "('Current seed',\n",
       " 0,\n",
       " 'Training step',\n",
       " 7900,\n",
       " 'Gradient descent loss',\n",
       " 0.4567447900772095,\n",
       " 'GD ++ loss',\n",
       " 0.4316410422325134,\n",
       " 'Trained TF loss',\n",
       " 0.47720906138420105,\n",
       " 'Interpolated model loss',\n",
       " 38.85091018676758,\n",
       " 'Cosine sim TF vs GD',\n",
       " 0.9633032083511353,\n",
       " 'Cosine sim TF vs GD++',\n",
       " 0.9534380435943604)"
      ]
     },
     "metadata": {},
     "output_type": "display_data"
    },
    {
     "name": "stdout",
     "output_type": "stream",
     "text": [
      "-----loss_trans 0.47895765\n"
     ]
    },
    {
     "data": {
      "text/plain": [
       "('Current seed',\n",
       " 0,\n",
       " 'Training step',\n",
       " 7900,\n",
       " 'Gradient descent loss',\n",
       " 0.4567447900772095,\n",
       " 'GD ++ loss',\n",
       " 0.4316410422325134,\n",
       " 'Trained TF loss',\n",
       " 0.47720906138420105,\n",
       " 'Interpolated model loss',\n",
       " 38.85091018676758,\n",
       " 'Cosine sim TF vs GD',\n",
       " 0.9633032083511353,\n",
       " 'Cosine sim TF vs GD++',\n",
       " 0.9534380435943604)"
      ]
     },
     "metadata": {},
     "output_type": "display_data"
    },
    {
     "name": "stdout",
     "output_type": "stream",
     "text": [
      "-----loss_trans 0.47871286\n"
     ]
    },
    {
     "data": {
      "text/plain": [
       "('Current seed',\n",
       " 0,\n",
       " 'Training step',\n",
       " 7900,\n",
       " 'Gradient descent loss',\n",
       " 0.4567447900772095,\n",
       " 'GD ++ loss',\n",
       " 0.4316410422325134,\n",
       " 'Trained TF loss',\n",
       " 0.47720906138420105,\n",
       " 'Interpolated model loss',\n",
       " 38.85091018676758,\n",
       " 'Cosine sim TF vs GD',\n",
       " 0.9633032083511353,\n",
       " 'Cosine sim TF vs GD++',\n",
       " 0.9534380435943604)"
      ]
     },
     "metadata": {},
     "output_type": "display_data"
    },
    {
     "name": "stdout",
     "output_type": "stream",
     "text": [
      "-----loss_trans 0.47848722\n"
     ]
    },
    {
     "data": {
      "text/plain": [
       "('Current seed',\n",
       " 0,\n",
       " 'Training step',\n",
       " 7900,\n",
       " 'Gradient descent loss',\n",
       " 0.4567447900772095,\n",
       " 'GD ++ loss',\n",
       " 0.4316410422325134,\n",
       " 'Trained TF loss',\n",
       " 0.47720906138420105,\n",
       " 'Interpolated model loss',\n",
       " 38.85091018676758,\n",
       " 'Cosine sim TF vs GD',\n",
       " 0.9633032083511353,\n",
       " 'Cosine sim TF vs GD++',\n",
       " 0.9534380435943604)"
      ]
     },
     "metadata": {},
     "output_type": "display_data"
    },
    {
     "name": "stdout",
     "output_type": "stream",
     "text": [
      "-----loss_trans 0.47721258\n"
     ]
    },
    {
     "data": {
      "text/plain": [
       "('Current seed',\n",
       " 0,\n",
       " 'Training step',\n",
       " 7900,\n",
       " 'Gradient descent loss',\n",
       " 0.4567447900772095,\n",
       " 'GD ++ loss',\n",
       " 0.4316410422325134,\n",
       " 'Trained TF loss',\n",
       " 0.47720906138420105,\n",
       " 'Interpolated model loss',\n",
       " 38.85091018676758,\n",
       " 'Cosine sim TF vs GD',\n",
       " 0.9633032083511353,\n",
       " 'Cosine sim TF vs GD++',\n",
       " 0.9534380435943604)"
      ]
     },
     "metadata": {},
     "output_type": "display_data"
    },
    {
     "name": "stdout",
     "output_type": "stream",
     "text": [
      "-----loss_trans 0.47789046\n"
     ]
    },
    {
     "data": {
      "text/plain": [
       "('Current seed',\n",
       " 0,\n",
       " 'Training step',\n",
       " 7900,\n",
       " 'Gradient descent loss',\n",
       " 0.4567447900772095,\n",
       " 'GD ++ loss',\n",
       " 0.4316410422325134,\n",
       " 'Trained TF loss',\n",
       " 0.47720906138420105,\n",
       " 'Interpolated model loss',\n",
       " 38.85091018676758,\n",
       " 'Cosine sim TF vs GD',\n",
       " 0.9633032083511353,\n",
       " 'Cosine sim TF vs GD++',\n",
       " 0.9534380435943604)"
      ]
     },
     "metadata": {},
     "output_type": "display_data"
    },
    {
     "name": "stdout",
     "output_type": "stream",
     "text": [
      "-----loss_trans 0.47721496\n"
     ]
    },
    {
     "data": {
      "text/plain": [
       "('Current seed',\n",
       " 0,\n",
       " 'Training step',\n",
       " 7900,\n",
       " 'Gradient descent loss',\n",
       " 0.4567447900772095,\n",
       " 'GD ++ loss',\n",
       " 0.4316410422325134,\n",
       " 'Trained TF loss',\n",
       " 0.47720906138420105,\n",
       " 'Interpolated model loss',\n",
       " 38.85091018676758,\n",
       " 'Cosine sim TF vs GD',\n",
       " 0.9633032083511353,\n",
       " 'Cosine sim TF vs GD++',\n",
       " 0.9534380435943604)"
      ]
     },
     "metadata": {},
     "output_type": "display_data"
    },
    {
     "name": "stdout",
     "output_type": "stream",
     "text": [
      "-----loss_trans 0.47870344\n"
     ]
    },
    {
     "data": {
      "text/plain": [
       "('Current seed',\n",
       " 0,\n",
       " 'Training step',\n",
       " 7900,\n",
       " 'Gradient descent loss',\n",
       " 0.4567447900772095,\n",
       " 'GD ++ loss',\n",
       " 0.4316410422325134,\n",
       " 'Trained TF loss',\n",
       " 0.47720906138420105,\n",
       " 'Interpolated model loss',\n",
       " 38.85091018676758,\n",
       " 'Cosine sim TF vs GD',\n",
       " 0.9633032083511353,\n",
       " 'Cosine sim TF vs GD++',\n",
       " 0.9534380435943604)"
      ]
     },
     "metadata": {},
     "output_type": "display_data"
    },
    {
     "name": "stdout",
     "output_type": "stream",
     "text": [
      "-----loss_trans 0.47958577\n"
     ]
    },
    {
     "data": {
      "text/plain": [
       "('Current seed',\n",
       " 0,\n",
       " 'Training step',\n",
       " 7900,\n",
       " 'Gradient descent loss',\n",
       " 0.4567447900772095,\n",
       " 'GD ++ loss',\n",
       " 0.4316410422325134,\n",
       " 'Trained TF loss',\n",
       " 0.47720906138420105,\n",
       " 'Interpolated model loss',\n",
       " 38.85091018676758,\n",
       " 'Cosine sim TF vs GD',\n",
       " 0.9633032083511353,\n",
       " 'Cosine sim TF vs GD++',\n",
       " 0.9534380435943604)"
      ]
     },
     "metadata": {},
     "output_type": "display_data"
    },
    {
     "name": "stdout",
     "output_type": "stream",
     "text": [
      "-----loss_trans 0.47957098\n"
     ]
    },
    {
     "data": {
      "text/plain": [
       "('Current seed',\n",
       " 0,\n",
       " 'Training step',\n",
       " 7900,\n",
       " 'Gradient descent loss',\n",
       " 0.4567447900772095,\n",
       " 'GD ++ loss',\n",
       " 0.4316410422325134,\n",
       " 'Trained TF loss',\n",
       " 0.47720906138420105,\n",
       " 'Interpolated model loss',\n",
       " 38.85091018676758,\n",
       " 'Cosine sim TF vs GD',\n",
       " 0.9633032083511353,\n",
       " 'Cosine sim TF vs GD++',\n",
       " 0.9534380435943604)"
      ]
     },
     "metadata": {},
     "output_type": "display_data"
    },
    {
     "name": "stdout",
     "output_type": "stream",
     "text": [
      "-----loss_trans 0.4782127\n"
     ]
    },
    {
     "data": {
      "text/plain": [
       "('Current seed',\n",
       " 0,\n",
       " 'Training step',\n",
       " 7900,\n",
       " 'Gradient descent loss',\n",
       " 0.4567447900772095,\n",
       " 'GD ++ loss',\n",
       " 0.4316410422325134,\n",
       " 'Trained TF loss',\n",
       " 0.47720906138420105,\n",
       " 'Interpolated model loss',\n",
       " 38.85091018676758,\n",
       " 'Cosine sim TF vs GD',\n",
       " 0.9633032083511353,\n",
       " 'Cosine sim TF vs GD++',\n",
       " 0.9534380435943604)"
      ]
     },
     "metadata": {},
     "output_type": "display_data"
    },
    {
     "name": "stdout",
     "output_type": "stream",
     "text": [
      "-----loss_trans 0.47720906\n"
     ]
    },
    {
     "data": {
      "text/plain": [
       "('Current seed',\n",
       " 0,\n",
       " 'Training step',\n",
       " 7900,\n",
       " 'Gradient descent loss',\n",
       " 0.4567447900772095,\n",
       " 'GD ++ loss',\n",
       " 0.4316410422325134,\n",
       " 'Trained TF loss',\n",
       " 0.47720906138420105,\n",
       " 'Interpolated model loss',\n",
       " 38.85091018676758,\n",
       " 'Cosine sim TF vs GD',\n",
       " 0.9633032083511353,\n",
       " 'Cosine sim TF vs GD++',\n",
       " 0.9534380435943604)"
      ]
     },
     "metadata": {},
     "output_type": "display_data"
    }
   ],
   "source": [
    "\n",
    "# @title Training\n",
    "\n",
    "# interpolate GD and trained TF\n",
    "inter = True if (config.deq and not config.use_softmax and config.num_heads == 1) else False\n",
    "\n",
    "eval_rng = jax.random.PRNGKey(5)\n",
    "for cur_seed in range(0, config.num_seeds):\n",
    "    # print(\"-------cur_seed\", cur_seed)\n",
    "    config.seed = cur_seed\n",
    "    optimiser, train_state, _, rng = init()\n",
    "    # print(\" ===nini\")\n",
    "    # print( train_state )\n",
    "    # print(len(train_state))\n",
    "    rng, data_rng = jax.random.split(rng, 2)\n",
    "    if config.analyse:\n",
    "        lr_min, min_loss = scan_lrs(eval_rng, lin_diag=False, bs=10000)\n",
    "        if cur_seed == 0:\n",
    "            print('Best lr found for ', config.num_layers, ' steps of gradient descent: ', lr_min / config.dataset_size,\n",
    "                  \" with loss \", min_loss)\n",
    "\n",
    "        params_gd = create_weights(config.input_size, 1, config.dataset_size, lr_min,\n",
    "                                   jax.random.normal(data_rng, shape=[1, 1, config.input_size])* 0 , # * 0\n",
    "                                   lin_diag=False, gd_deq=config.gd_deq,\n",
    "                                   num_layers=config.num_layers,\n",
    "                                   input_mlp_rnd=rng if (config.input_mlp or config.in_proj) else None,\n",
    "                                   in_proj=config.in_proj)\n",
    "        # print(\"params_gd\",params_gd)\n",
    "\n",
    "        if config.num_layers > 1 or (config.in_proj and config.num_layers == 1):\n",
    "            if cur_seed == 0:\n",
    "                lr_min, min_loss = scan_lrs(eval_rng, lin_diag=True, bs=10000)\n",
    "                params_init = create_weights(config.input_size, 1, config.dataset_size, lr_min,\n",
    "                                             jax.random.normal(data_rng, shape=[1, 1, config.input_size])* 0, # * 0\n",
    "                                             lin_diag=True, gd_deq=config.gd_deq,\n",
    "                                             num_layers=config.num_layers,\n",
    "                                             input_mlp_rnd=eval_rng if (config.input_mlp or config.in_proj) else None,\n",
    "                                             in_proj=config.in_proj)\n",
    "                params_gd_trained, data_rng = pre_train_gd_hps(eval_rng, params_init)\n",
    "        else:\n",
    "            params_gd_trained = params_gd\n",
    "    #\n",
    "    # print(\" config.input_size\", config.input_size)\n",
    "    # print(\"  config.dataset_size,\",  config.dataset_size)\n",
    "    eval_data = data_creator(jax.random.split(eval_rng, num=10000),\n",
    "                             config.input_size,\n",
    "                             config.dataset_size,\n",
    "                             config.size_distract,\n",
    "                             config.input_range,\n",
    "                             config.weight_scale)\n",
    "    if config.analyse:\n",
    "        # print(\"-----------,get in to---------\")\n",
    "        # # print(\"params_gd\", params_gd)\n",
    "        # print(\"eval_data seq\",eval_data[0].shape)\n",
    "        # print(\"eval_data target\", eval_data[1].shape)\n",
    "        # print(\"eval_data weight\", eval_data[2].shape)\n",
    "        #\n",
    "        # \"\"\"---------loss gd---------\"\"\"\n",
    "        loss_gd, _, _ = predict_test.apply(params_gd, eval_rng, eval_data, True)\n",
    "        loss_gd_trained, _, _ = predict_test.apply(params_gd_trained, eval_rng,\n",
    "                                                   eval_data, True)\n",
    "\n",
    "\n",
    "    original_data_rng = data_rng\n",
    "    i=0\n",
    "    for step in range(config.training_steps):\n",
    "      if config.cycle_data > 0:\n",
    "        if step % config.cycle_data == 0:\n",
    "          data_rng = original_data_rng\n",
    "\n",
    "      rng, data_rng = jax.random.split(data_rng, 2)\n",
    "      # print(\"training rng99999999999\",rng)\n",
    "      train_data = data_creator(jax.random.split(rng, num=config.bs),\n",
    "                                config.input_size,\n",
    "                                config.dataset_size,\n",
    "                                config.size_distract,\n",
    "                                config.input_range,\n",
    "                                config.weight_scale)\n",
    "      # print(\"----before--train_state params\",train_state.params)\n",
    "      train_state, metrics = update(train_state, train_data, optimiser)\n",
    "      if step % 100 == 0:\n",
    "        \"\"\"---------loss transformer---------\"\"\"\n",
    "        loss_trans, _, _ = predict_test.apply(train_state.params, eval_rng,\n",
    "                                              eval_data, False)\n",
    "        print(\"-----loss_trans\",loss_trans)\n",
    "        loss_trans_list[cur_seed].append(loss_trans)\n",
    "\n",
    "        loss_trans_train_list[cur_seed].append(metrics['train_loss'].item(),)\n",
    "        if config.analyse:\n",
    "          losses_gd_list[cur_seed].append(loss_gd)\n",
    "       \n",
    "\n",
    "          losses_int, inter_params = interpolate_weights(train_state, params_gd_trained)\n",
    "\n",
    "          losses_int_list_trained[cur_seed].append(losses_int)\n",
    "\n",
    "          #rng, data_rng, eval_rng = jax.random.split(data_rng, 3)\n",
    "          # Alignment Transformers and GD\n",
    "          cos_sim, w_norm, p_norm = analyse(eval_data, train_state, eval_rng,\n",
    "                                            params_gd)\n",
    "          cos_sim_o, w_norm_o, p_norm_o = analyse(eval_data, train_state, eval_rng,\n",
    "                                            params_gd_trained)\n",
    "          if step > 0:\n",
    "            # print(\"loss_gd_trained.item()\",loss_gd_trained.item())\n",
    "            display((\"Current seed\", cur_seed,\n",
    "                     \"Training step\", step, \"Gradient descent loss\", loss_gd.item(),\n",
    "                      \"GD ++ loss\", loss_gd_trained.item(),\n",
    "                      \"Trained TF loss\", loss_trans.item(),\n",
    "                      \"Interpolated model loss\", losses_int.item() if inter else \"-\",\n",
    "                      \"Cosine sim TF vs GD\", cos_sim.item(),\n",
    "                      \"Cosine sim TF vs GD++\", cos_sim_o.item() if config.num_layers > 1 else \"-\"),\n",
    "                      display_id=\"Cur met\")\n",
    "       \n",
    "          cos_sim_list[cur_seed].append(cos_sim)\n",
    "          grad_norm_list[cur_seed].append(w_norm)\n",
    "          p_norm_list[cur_seed].append(p_norm)\n",
    "          losses_gd_list_trained[cur_seed].append(loss_gd_trained.item())\n",
    "\n",
    "          cos_sim_list_o[cur_seed].append(cos_sim_o)\n",
    "          grad_norm_list_o[cur_seed].append(w_norm_o)\n",
    "          p_norm_list_o[cur_seed].append(p_norm_o)\n"
   ]
  },
  {
   "cell_type": "code",
   "execution_count": 8,
   "id": "da170238-8210-40b1-ac57-149fdd44750a",
   "metadata": {
    "scrolled": true
   },
   "outputs": [
    {
     "name": "stdout",
     "output_type": "stream",
     "text": [
      "[0.8410998582839966, 0.8281874656677246, 0.7505974769592285, 0.7015272974967957, 0.6846181154251099, 0.6770808696746826, 0.6665422916412354, 0.6514328718185425, 0.6248183846473694, 0.5976241827011108, 0.5686364769935608, 0.5423250198364258, 0.5231525301933289, 0.5049707293510437, 0.49381330609321594, 0.4899950325489044, 0.4884565770626068, 0.48728448152542114, 0.4888017773628235, 0.4869243800640106, 0.48597151041030884, 0.48496732115745544, 0.48362672328948975, 0.4868220388889313, 0.48494425415992737, 0.49008795619010925, 0.483589231967926, 0.48416468501091003, 0.4854584336280823, 0.48634567856788635, 0.48510003089904785, 0.48514533042907715, 0.483223021030426, 0.484355628490448, 0.48507824540138245, 0.48338019847869873, 0.4844501316547394, 0.4837809205055237, 0.48687687516212463, 0.48282989859580994, 0.48324963450431824, 0.4853013753890991, 0.48420900106430054, 0.4837677478790283, 0.483572781085968, 0.48250457644462585, 0.4845931828022003, 0.4833225905895233, 0.48375001549720764, 0.4821217954158783, 0.4835108518600464, 0.48381754755973816, 0.48067981004714966, 0.48104655742645264, 0.48112180829048157, 0.48108646273612976, 0.48033297061920166, 0.48344001173973083, 0.4821380078792572, 0.48136457800865173, 0.48262637853622437, 0.481177419424057, 0.4808906614780426, 0.47942957282066345, 0.47867444157600403, 0.48062556982040405, 0.47998830676078796, 0.4778887927532196, 0.4774993360042572, 0.4789576530456543, 0.47871285676956177, 0.4784872233867645, 0.4772125780582428, 0.4778904616832733, 0.4772149622440338, 0.47870343923568726, 0.47958576679229736, 0.47957098484039307, 0.47821271419525146, 0.47720906138420105]\n",
      "---p_norm_list\n",
      "[0.4567447900772095, 0.4567447900772095, 0.4567447900772095, 0.4567447900772095, 0.4567447900772095, 0.4567447900772095, 0.4567447900772095, 0.4567447900772095, 0.4567447900772095, 0.4567447900772095, 0.4567447900772095, 0.4567447900772095, 0.4567447900772095, 0.4567447900772095, 0.4567447900772095, 0.4567447900772095, 0.4567447900772095, 0.4567447900772095, 0.4567447900772095, 0.4567447900772095, 0.4567447900772095, 0.4567447900772095, 0.4567447900772095, 0.4567447900772095, 0.4567447900772095, 0.4567447900772095, 0.4567447900772095, 0.4567447900772095, 0.4567447900772095, 0.4567447900772095, 0.4567447900772095, 0.4567447900772095, 0.4567447900772095, 0.4567447900772095, 0.4567447900772095, 0.4567447900772095, 0.4567447900772095, 0.4567447900772095, 0.4567447900772095, 0.4567447900772095, 0.4567447900772095, 0.4567447900772095, 0.4567447900772095, 0.4567447900772095, 0.4567447900772095, 0.4567447900772095, 0.4567447900772095, 0.4567447900772095, 0.4567447900772095, 0.4567447900772095, 0.4567447900772095, 0.4567447900772095, 0.4567447900772095, 0.4567447900772095, 0.4567447900772095, 0.4567447900772095, 0.4567447900772095, 0.4567447900772095, 0.4567447900772095, 0.4567447900772095, 0.4567447900772095, 0.4567447900772095, 0.4567447900772095, 0.4567447900772095, 0.4567447900772095, 0.4567447900772095, 0.4567447900772095, 0.4567447900772095, 0.4567447900772095, 0.4567447900772095, 0.4567447900772095, 0.4567447900772095, 0.4567447900772095, 0.4567447900772095, 0.4567447900772095, 0.4567447900772095, 0.4567447900772095, 0.4567447900772095, 0.4567447900772095, 0.4567447900772095]\n"
     ]
    },
    {
     "data": {
      "text/plain": [
       "'\\n# 2:\\n# 0.56672347\\n# 0.56188846\\n5:\\n0.571959\\n0.56197524\\n\\n10\\n0.5745692\\n0.56199145\\n\\n15\\n0.57516754\\n0.56204414\\n\\n25;\\n\\n0.5765719\\n0.56224084\\n\\n'"
      ]
     },
     "execution_count": 8,
     "metadata": {},
     "output_type": "execute_result"
    },
    {
     "data": {
      "image/png": "[encoded data removed]",
      "text/plain": [
       "<Figure size 400x350 with 1 Axes>"
      ]
     },
     "metadata": {},
     "output_type": "display_data"
    }
   ],
   "source": [
    "print([float(x) for x in loss_trans_list[0]])\n",
    "print(\"---p_norm_list\")\n",
    "print([float(x) for x in losses_gd_list[0]])   \n",
    "# print(loss_trans_list[0][-1])\n",
    "# print(losses_gd_list[0][-1])\n",
    "display_learning(loss_trans_list, test=losses_gd_list, y_lim_u=0.9, y_lim_l=0.4,\n",
    "                 rw=1, title=\"train_loss_layer1_doc2_dim10_R_all_0.pdf\", allow_download=True,   \n",
    "                 title1='Trained TF', title2='GD', single_seeds=True,second_axis=False,\n",
    "                 num_iter_os=len(loss_trans_list[0])*100)\n",
    "\n",
    "# 0.5139412879943848\n",
    "# 2:\n",
    "# 0.56672347\n",
    "# 0.56188846\n",
    "\"\"\"\n",
    "# 2:\n",
    "# 0.56672347\n",
    "# 0.56188846\n",
    "5:\n",
    "0.571959\n",
    "0.56197524\n",
    "\n",
    "10\n",
    "0.5745692\n",
    "0.56199145\n",
    "\n",
    "15\n",
    "0.57516754\n",
    "0.56204414\n",
    "\n",
    "25;\n",
    "\n",
    "0.5765719\n",
    "0.56224084\n",
    "\n",
    "\"\"\""
   ]
  },
  {
   "cell_type": "code",
   "execution_count": 9,
   "id": "bad6c23f-882e-4514-be67-833d110147e5",
   "metadata": {},
   "outputs": [
    {
     "data": {
      "image/png": "[encoded data removed]",
      "text/plain": [
       "<Figure size 400x350 with 2 Axes>"
      ]
     },
     "metadata": {},
     "output_type": "display_data"
    }
   ],
   "source": [
    "display_learning(cos_sim_list_o, grad_norm_list, p_norm_list, title1=\"Partial cosine\",\n",
    "                 title2=\"Partial diff\", y_lim_u=2.5,\n",
    "                 title3=\"Preds diff\", second_axis=True,\n",
    "                 y_lim_u2=1,  color_add=0.2, loc_sec = 'lower left',\n",
    "                 y_lim_l2=0.8,\n",
    "                 rw=1, num_iter_os=len(cos_sim_list[0])*100, title=\"sim_layer1_doc2_dim10_R_w_all_0.pdf\",\n",
    "                 allow_download=True)"
   ]
  },
  {
   "cell_type": "code",
   "execution_count": 10,
   "id": "33bd8779-c4c0-4422-b1da-0013c55c719a",
   "metadata": {},
   "outputs": [
    {
     "name": "stdout",
     "output_type": "stream",
     "text": [
      "[0.01488451473414898, 0.24034516513347626, 0.5463016629219055, 0.632989227771759, 0.6605537533760071, 0.6715195775032043, 0.6877228021621704, 0.7162724137306213, 0.7608907222747803, 0.8077932000160217, 0.8523134589195251, 0.8895808458328247, 0.9207809567451477, 0.9414463639259338, 0.9546831846237183, 0.9598259329795837, 0.9621407985687256, 0.9631851315498352, 0.9642993807792664, 0.9634947180747986, 0.9638466835021973, 0.9644044637680054, 0.9644529819488525, 0.9637818336486816, 0.9644536972045898, 0.9642395973205566, 0.9643325805664062, 0.964299201965332, 0.9646262526512146, 0.9643584489822388, 0.9643864035606384, 0.9647175669670105, 0.964537501335144, 0.964845597743988, 0.9643481969833374, 0.9646847248077393, 0.9647567868232727, 0.9646455645561218, 0.9640781283378601, 0.9652612805366516, 0.9642566442489624, 0.9643917679786682, 0.965015709400177, 0.9643441438674927, 0.9647429585456848, 0.9649603962898254, 0.9655185341835022, 0.9649274945259094, 0.9641247987747192, 0.9644367098808289, 0.9638968706130981, 0.9646196961402893, 0.9650458693504333, 0.9648552536964417, 0.9645453095436096, 0.9637913703918457, 0.9649539589881897, 0.9645745754241943, 0.964766263961792, 0.9644249677658081, 0.9637802243232727, 0.9641081690788269, 0.9638733863830566, 0.9647077918052673, 0.9642075896263123, 0.9635871052742004, 0.9636783003807068, 0.9640102982521057, 0.9642999768257141, 0.9637343287467957, 0.9633336663246155, 0.9638433456420898, 0.9638871550559998, 0.9632827639579773, 0.9633694887161255, 0.9625527262687683, 0.9624134302139282, 0.9633190035820007, 0.9627329707145691, 0.9633032083511353]\n",
      "-----------\n",
      "[1.39322829246521, 1.2239124774932861, 0.9433386325836182, 0.8456500768661499, 0.8115862607955933, 0.7981546521186829, 0.7782276272773743, 0.7418847680091858, 0.680158257484436, 0.6073706746101379, 0.5282544493675232, 0.45287254452705383, 0.3789599537849426, 0.3206943869590759, 0.27489590644836426, 0.25275227427482605, 0.24077394604682922, 0.23551137745380402, 0.2295866161584854, 0.23384052515029907, 0.23196186125278473, 0.22876596450805664, 0.228816956281662, 0.23264381289482117, 0.22920024394989014, 0.23038332164287567, 0.2294308990240097, 0.22956325113773346, 0.22837181389331818, 0.22970294952392578, 0.22991637885570526, 0.2274118810892105, 0.22867770493030548, 0.22647421061992645, 0.23010683059692383, 0.22750024497509003, 0.22719618678092957, 0.2276763617992401, 0.2312852442264557, 0.2247174233198166, 0.22941820323467255, 0.2297736257314682, 0.22628356516361237, 0.22962060570716858, 0.22762125730514526, 0.2259259670972824, 0.2225617617368698, 0.2263515591621399, 0.23114030063152313, 0.22849321365356445, 0.23215560615062714, 0.22775712609291077, 0.2252693772315979, 0.22655844688415527, 0.22780907154083252, 0.23231108486652374, 0.22591276466846466, 0.22771169245243073, 0.22691453993320465, 0.22831566631793976, 0.23224464058876038, 0.23008036613464355, 0.23098647594451904, 0.22666025161743164, 0.2294706553220749, 0.23208138346672058, 0.23190374672412872, 0.23024867475032806, 0.22849410772323608, 0.23159155249595642, 0.23348969221115112, 0.2307090312242508, 0.2305913269519806, 0.23365101218223572, 0.2332657128572464, 0.23753373324871063, 0.23781079053878784, 0.23332801461219788, 0.23628747463226318, 0.23339875042438507]\n",
      "-----------\n",
      "[0.6351759433746338, 0.6219488382339478, 0.5449684858322144, 0.4960799813270569, 0.4766864478588104, 0.46859192848205566, 0.45867934823036194, 0.44179466366767883, 0.4111008048057556, 0.3718119263648987, 0.3294554352760315, 0.2866169810295105, 0.24429632723331451, 0.2112703025341034, 0.17868342995643616, 0.16912029683589935, 0.16071556508541107, 0.15830792486667633, 0.15330860018730164, 0.1572786569595337, 0.1562567502260208, 0.15324033796787262, 0.15278534591197968, 0.156387060880661, 0.15203960239887238, 0.15602129697799683, 0.15276660025119781, 0.15347345173358917, 0.15275967121124268, 0.1533026546239853, 0.15496930480003357, 0.15152573585510254, 0.15364022552967072, 0.15101540088653564, 0.15371385216712952, 0.15163670480251312, 0.15042324364185333, 0.1515030711889267, 0.15601247549057007, 0.15103620290756226, 0.15155453979969025, 0.15273605287075043, 0.1514236330986023, 0.15334491431713104, 0.15300799906253815, 0.14958029985427856, 0.14776058495044708, 0.15096116065979004, 0.15556849539279938, 0.15333662927150726, 0.15710550546646118, 0.15281635522842407, 0.15079142153263092, 0.15192504227161407, 0.1525518000125885, 0.1544785499572754, 0.15091915428638458, 0.15304486453533173, 0.1522151380777359, 0.1547737717628479, 0.15539953112602234, 0.15405765175819397, 0.15517987310886383, 0.15205134451389313, 0.15389329195022583, 0.15625455975532532, 0.15672944486141205, 0.15501956641674042, 0.1536436676979065, 0.1562490612268448, 0.15780112147331238, 0.1572674810886383, 0.1564815640449524, 0.15882760286331177, 0.15706533193588257, 0.16065022349357605, 0.16221044957637787, 0.1580202579498291, 0.1601090282201767, 0.1575974076986313]\n"
     ]
    }
   ],
   "source": [
    "\n",
    "print([float(x) for x in cos_sim_list[0]])\n",
    "print(\"-----------\")\n",
    "print([float(x) for x in grad_norm_list[0]])\n",
    "print(\"-----------\")\n",
    "\n",
    "print([float(x) for x in p_norm_list[0]])"
   ]
  },
  {
   "cell_type": "code",
   "execution_count": 11,
   "id": "3d79a29b-584a-461d-9084-988e7d0d9eb8",
   "metadata": {},
   "outputs": [
    {
     "data": {
      "image/png": "[encoded data removed]",
      "text/plain": [
       "<Figure size 700x500 with 1 Axes>"
      ]
     },
     "metadata": {},
     "output_type": "display_data"
    }
   ],
   "source": [
    "import matplotlib.pyplot as plt\n",
    "import numpy as np\n",
    "plt.rcParams.update({'font.size': 23})\n",
    " \n",
    "x = [2, 5, 10, 25]\n",
    " \n",
    "\n",
    "\"\"\"\n",
    "\n",
    "\n",
    "\"\"\"\n",
    "loss_trans = [0.56,0.57,0.57,0.57]  \n",
    "losses_gds = [0.56,0.56,0.57,0.57]  \n",
    "\n",
    "plt.figure(figsize=(7,5))\n",
    "plt.ylim(0, 1)\n",
    " \n",
    "plt.scatter(x, losses_gds, marker=\"v\", color=\"green\", s=200, label=\"RAG\")\n",
    "plt.scatter(x, loss_trans, marker=\"+\", color=\"blue\", s=200, label=\"Trained TF\")\n",
    "\n",
    " \n",
    "plt.xscale(\"log\")\n",
    "plt.xticks(x, labels=[str(i) for i in x])  # 显式显示你的横坐标点\n",
    "\n",
    " \n",
    "plt.xlabel(\"Num document\",fontsize=23)\n",
    "plt.ylabel(\"Loss\",fontsize=23)\n",
    "# plt.title(\"Comparison of GD and Trained Transformer\")\n",
    "plt.legend()\n",
    "plt.grid(False)\n",
    "ax = plt.gca()\n",
    "ax.spines[\"top\"].set_visible(False)\n",
    "ax.spines[\"right\"].set_visible(False)\n",
    "# plt.scatter(x, losses_gds, marker=\"v\", color=\"green\", s=80, label=\"RAG\")\n",
    "# plt.scatter(x, loss_trans, marker=\"+\", color=\"blue\", s=100, label=\"Trained TF\")\n",
    "plt.savefig(\"R2_different_doc.pdf\",format=\"pdf\", bbox_inches=\"tight\")\n",
    "plt.show()"
   ]
  },
  {
   "cell_type": "code",
   "execution_count": 12,
   "id": "9faf8d49-934d-4638-bbc0-5898bff618ce",
   "metadata": {},
   "outputs": [
    {
     "data": {
      "image/png": "[encoded data removed]",
      "text/plain": [
       "<Figure size 700x500 with 1 Axes>"
      ]
     },
     "metadata": {},
     "output_type": "display_data"
    }
   ],
   "source": [
    "\n",
    "\"\"\"----R1\"\"\"\n",
    "import matplotlib.pyplot as plt\n",
    "import numpy as np\n",
    "plt.rcParams.update({'font.size': 23})\n",
    " \n",
    "x = [2, 5, 10, 25]\n",
    "\n",
    " \n",
    "loss_trans = [0.94,2.08,4.20,10.55] \n",
    "losses_gds = [0.94,2.08,4.20,10.50]\n",
    "\n",
    "plt.figure(figsize=(7,5))\n",
    "\n",
    " \n",
    "plt.scatter(x, losses_gds, marker=\"v\", color=\"green\", s=200, label=\"RAG\")\n",
    "plt.scatter(x, loss_trans, marker=\"+\", color=\"blue\", s=200, label=\"Trained TF\")\n",
    "\n",
    " \n",
    "plt.xscale(\"log\")\n",
    "plt.xticks(x, labels=[str(i) for i in x])   \n",
    "\n",
    " \n",
    "plt.xlabel(\"Num document\",fontsize=23)\n",
    "plt.ylabel(\"Loss\",fontsize=23)\n",
    "# plt.title(\"Comparison of GD and Trained Transformer\")\n",
    "plt.legend()\n",
    "plt.grid(False)\n",
    "ax = plt.gca()\n",
    "ax.spines[\"top\"].set_visible(False)\n",
    "ax.spines[\"right\"].set_visible(False)\n",
    "\n",
    "plt.savefig(\"R1_different_doc.pdf\",format=\"pdf\", bbox_inches=\"tight\")\n",
    "plt.show()"
   ]
  },
  {
   "cell_type": "code",
   "execution_count": 13,
   "id": "96af6c4a-1773-4566-ad3e-451b8397b568",
   "metadata": {},
   "outputs": [
    {
     "data": {
      "image/png": "[encoded data removed]",
      "text/plain": [
       "<Figure size 700x500 with 1 Axes>"
      ]
     },
     "metadata": {},
     "output_type": "display_data"
    }
   ],
   "source": [
    "import matplotlib.pyplot as plt\n",
    "from matplotlib.ticker import FixedLocator, FixedFormatter, NullLocator\n",
    "\n",
    "x = [0.5, 0.75, 1, 1.25, 1.5, 1.75, 2]\n",
    "loss_trans = [0.56,2.30,12.60,53.20,170.90,452.71,1000]   # 1043.43\n",
    "losses_gds = [0.57,2.26,12.20,50.72,162.59,430.49,995]  # 992.1\n",
    "\n",
    "plt.figure(figsize=(7,5))\n",
    "\n",
    "plt.scatter(x, losses_gds, marker=\"v\", color=\"green\", s=200, label=\"RAG\")\n",
    "plt.scatter(x, loss_trans, marker=\"+\", color=\"blue\", s=200, label=\"Trained TF\")\n",
    "plt.ylim(-20, 1050)\n",
    "ax = plt.gca()\n",
    "ax.set_xscale(\"log\")\n",
    "\n",
    " \n",
    "ticks = [0.5, 1, 1.5, 2]\n",
    "ax.xaxis.set_major_locator(FixedLocator(ticks))\n",
    "ax.xaxis.set_major_formatter(FixedFormatter(['0.5', '1', '1.5', '2']))\n",
    "ax.xaxis.set_minor_locator(NullLocator())   \n",
    "\n",
    "plt.xlabel(r\"$\\alpha \\;\\;\\text{where } x \\sim U(-\\alpha, \\alpha)$\", fontsize=23)\n",
    "plt.ylabel(\"Loss\", fontsize=23)\n",
    "# plt.plot(x, y, marker=\"o\", label=r\"$\\alpha \\;\\;\\text{where } x \\sim U(-\\alpha, \\alpha)$\")\n",
    "plt.legend()\n",
    "plt.grid(False)\n",
    "\n",
    "ax.spines[\"top\"].set_visible(False)\n",
    "ax.spines[\"right\"].set_visible(False)\n",
    "\n",
    "plt.savefig(\"R2_out_distrubtion.pdf\", format=\"pdf\", bbox_inches=\"tight\")\n",
    "plt.show()\n"
   ]
  },
  {
   "cell_type": "code",
   "execution_count": 14,
   "id": "0232064f-05d4-4dda-8fb4-60f4afccfd27",
   "metadata": {},
   "outputs": [
    {
     "data": {
      "image/png": "[encoded data removed]",
      "text/plain": [
       "<Figure size 700x500 with 1 Axes>"
      ]
     },
     "metadata": {},
     "output_type": "display_data"
    }
   ],
   "source": [
    "import matplotlib.pyplot as plt\n",
    "from matplotlib.ticker import FixedLocator, FixedFormatter, NullLocator\n",
    "\n",
    "x = [0.5, 0.75, 1, 1.25, 1.5, 1.75, 2]\n",
    "loss_trans = [0.94,3.23,14.89,58.76,184.73,485.17,1100]    \n",
    "losses_gds = [0.94,3.16,14.39,56.70,178.29,468.50,1100]   \n",
    "\n",
    "plt.figure(figsize=(7,5))\n",
    "\n",
    "plt.scatter(x, losses_gds, marker=\"v\", color=\"green\", s=200, label=\"RAG\")\n",
    "plt.scatter(x, loss_trans, marker=\"+\", color=\"blue\", s=200, label=\"Trained TF\")\n",
    "\n",
    "ax = plt.gca()\n",
    "ax.set_xscale(\"log\")\n",
    "\n",
    "# 只显示 0.5, 1, 1.5, 2\n",
    "ticks = [0.5, 1, 1.5, 2]\n",
    "ax.xaxis.set_major_locator(FixedLocator(ticks))\n",
    "ax.xaxis.set_major_formatter(FixedFormatter(['0.5', '1', '1.5', '2']))\n",
    "ax.xaxis.set_minor_locator(NullLocator())   \n",
    "\n",
    "plt.xlabel(r\"$\\alpha \\;\\;\\text{where } x \\sim U(-\\alpha, \\alpha)$\", fontsize=23)\n",
    "plt.ylabel(\"Loss\", fontsize=23)\n",
    "plt.legend()\n",
    "plt.grid(False)\n",
    "\n",
    "ax.spines[\"top\"].set_visible(False)\n",
    "ax.spines[\"right\"].set_visible(False)\n",
    "\n",
    "plt.savefig(\"R1_out_distrubtion.pdf\", format=\"pdf\", bbox_inches=\"tight\")\n",
    "plt.show()\n"
   ]
  },
  {
   "cell_type": "code",
   "execution_count": 15,
   "id": "c8530684-f2d3-4060-a281-d05caf751872",
   "metadata": {},
   "outputs": [
    {
     "data": {
      "image/png": "[encoded data removed]",
      "text/plain": [
       "<Figure size 400x350 with 2 Axes>"
      ]
     },
     "metadata": {},
     "output_type": "display_data"
    }
   ],
   "source": [
    "display_learning(cos_sim_list, grad_norm_list, p_norm_list, title1=\"Partial cosine\",\n",
    "                 title2=\"Partial diff\", y_lim_u=2.5,\n",
    "                 title3=\"Preds diff\", second_axis=True,\n",
    "                 y_lim_u2=1,  color_add=0.2, loc_sec = 'lower left',\n",
    "                 y_lim_l2=0.8,\n",
    "                 rw=1, num_iter_os=len(cos_sim_list[0])*100, title=\"sim_layer1_doc2_dim10_R_w_all_0.pdf\",\n",
    "                 allow_download=True)"
   ]
  },
  {
   "cell_type": "code",
   "execution_count": 16,
   "id": "d140d49a-2f15-45f5-a2e8-e8fcd48ce3fd",
   "metadata": {},
   "outputs": [
    {
     "data": {
      "image/png": "[encoded data removed]",
      "text/plain": [
       "<Figure size 400x350 with 2 Axes>"
      ]
     },
     "metadata": {},
     "output_type": "display_data"
    }
   ],
   "source": [
    "display_learning(cos_sim_list_o, grad_norm_list, p_norm_list, title1=\"Partial cosine\",\n",
    "                 title2=\"Partial diff\", y_lim_u=2.5,\n",
    "                 title3=\"Preds diff\", second_axis=True,\n",
    "                 y_lim_u2=1,  color_add=0.2, loc_sec = 'lower left',\n",
    "                 y_lim_l2=0.8,\n",
    "                 rw=1, num_iter_os=len(cos_sim_list[0])*100, title=\"sim_cos_pre_layer1_doc5_dim10_5000_GD++.pdf\",\n",
    "                 allow_download=True)"
   ]
  },
  {
   "cell_type": "code",
   "execution_count": null,
   "id": "0a9788c4-7cb4-4282-b160-8d51e4f375e3",
   "metadata": {},
   "outputs": [],
   "source": []
  }
 ],
 "metadata": {
  "kernelspec": {
   "display_name": "Python 3 (ipykernel)",
   "language": "python",
   "name": "python3"
  },
  "language_info": {
   "codemirror_mode": {
    "name": "ipython",
    "version": 3
   },
   "file_extension": ".py",
   "mimetype": "text/x-python",
   "name": "python",
   "nbconvert_exporter": "python",
   "pygments_lexer": "ipython3",
   "version": "3.10.18"
  }
 },
 "nbformat": 4,
 "nbformat_minor": 5
}
